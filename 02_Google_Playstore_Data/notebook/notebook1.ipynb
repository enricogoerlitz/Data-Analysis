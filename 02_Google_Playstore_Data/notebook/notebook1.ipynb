{
 "cells": [
  {
   "cell_type": "markdown",
   "metadata": {},
   "source": [
    "# EDA: Google Playstore Data"
   ]
  },
  {
   "cell_type": "markdown",
   "metadata": {},
   "source": [
    "# Project Preview\n",
    "\n",
    "<img src=\"../assets/picture.jpg\" alt=\"Title-Pic\">\n",
    "\n",
    "## Data StoryTelling\n",
    "\n",
    "This dataset came from <a href=\"https://datacamp.com\">datacamp.com</a> and contains data of the Google Playstore. <br>\n",
    "We want to find out, which kind of apps are the most popular e.g. by the rating and download rates.\n",
    "\n",
    "<br>\n",
    "\n",
    "## Data questions\n",
    "\n",
    "### Main-Topics\n",
    "\n",
    "#### Which kind of apps got the best rating?\n",
    "\n",
    "- genre\n",
    "- content ratings\n",
    "- free / paid apps\n",
    "- price category at paid apps\n",
    "- review count of app\n",
    "- app size\n",
    "\n",
    "#### Which kind of apps got the most downloads?\n",
    "\n",
    "- genre\n",
    "- rating\n",
    "- content ratings\n",
    "- free / paid apps\n",
    "- price category at paid apps\n",
    "- review count of app\n",
    "- app size\n",
    "\n",
    "<br>\n",
    "\n",
    "### General-Topics\n",
    "\n",
    "#### Genre\n",
    "\n",
    "- What are the most published genres?\n",
    "- What are the top genres (by rating, downloads & in combination)?\n",
    "- Which genre got the best rating-installment combination (weighted: rating=30%, downloads=70%)\n",
    "\n",
    "#### Free & Paid Apps\n",
    "\n",
    "- How is the distribution of paid and free apps?\n",
    "- Do paid apps get a better rating than free apps?\n",
    "- In terms of total releases, are paid apps downloaded more than free apps?\n",
    "- Does the price affect the rating (3 price categories)? Do high price apps got an better rating?\n",
    "- Does the price affect the downloads (3 price categories)? Do high price apps got an better download rate?\n",
    "- Which price category got the best rating-download combination when we want the highest turnover?\n",
    "\n",
    "#### App Rating\n",
    "\n",
    "- How is the total rating distribution over all apps (10 (0.5 - 5) categories)?\n",
    "- How is the total rating distribution over all apps (5 (1 - 5) categories)?\n",
    "- Got a app with many reviews an better rating? Is there a significant threshold?\n",
    "- Is there an relationship between the rating and the size of the app? Do bigger apps got an better rating, because of the higher functionality density?\n",
    "- How is the rating distribution of the different content ratings?\n",
    "- Are higher rated apps more downloaded?\n",
    "\n",
    "#### Other\n",
    "\n",
    "- Are bigger apps more downloaded then smaller apps?\n",
    "- Which content rating categories will downloaded the most?"
   ]
  },
  {
   "cell_type": "markdown",
   "metadata": {},
   "source": [
    "## Imports"
   ]
  },
  {
   "cell_type": "code",
   "execution_count": 1583,
   "metadata": {},
   "outputs": [],
   "source": [
    "import numpy as np\n",
    "import pandas as pd\n",
    "import matplotlib.pyplot as plt\n",
    "import seaborn as sns\n",
    "\n",
    "from pandas import Series, DataFrame\n",
    "\n",
    "\n",
    "np.set_printoptions(suppress=True)\n",
    "\n",
    "sns.set(rc={\"figure.figsize\": (10, 6), \"axes.titlesize\": 20, \"axes.titleweight\": \"bold\", \"axes.labelsize\": 15})\n",
    "sns.set_palette(\"Set2\")"
   ]
  },
  {
   "cell_type": "markdown",
   "metadata": {},
   "source": [
    "## Data overview"
   ]
  },
  {
   "cell_type": "code",
   "execution_count": 1584,
   "metadata": {},
   "outputs": [
    {
     "data": {
      "text/html": [
       "<div>\n",
       "<style scoped>\n",
       "    .dataframe tbody tr th:only-of-type {\n",
       "        vertical-align: middle;\n",
       "    }\n",
       "\n",
       "    .dataframe tbody tr th {\n",
       "        vertical-align: top;\n",
       "    }\n",
       "\n",
       "    .dataframe thead th {\n",
       "        text-align: right;\n",
       "    }\n",
       "</style>\n",
       "<table border=\"1\" class=\"dataframe\">\n",
       "  <thead>\n",
       "    <tr style=\"text-align: right;\">\n",
       "      <th></th>\n",
       "      <th>Unnamed: 0</th>\n",
       "      <th>App</th>\n",
       "      <th>Category</th>\n",
       "      <th>Rating</th>\n",
       "      <th>Reviews</th>\n",
       "      <th>Size</th>\n",
       "      <th>Installs</th>\n",
       "      <th>Type</th>\n",
       "      <th>Price</th>\n",
       "      <th>Content Rating</th>\n",
       "      <th>Genres</th>\n",
       "      <th>Last Updated</th>\n",
       "      <th>Current Ver</th>\n",
       "      <th>Android Ver</th>\n",
       "    </tr>\n",
       "  </thead>\n",
       "  <tbody>\n",
       "    <tr>\n",
       "      <th>0</th>\n",
       "      <td>0</td>\n",
       "      <td>Photo Editor &amp; Candy Camera &amp; Grid &amp; ScrapBook</td>\n",
       "      <td>ART_AND_DESIGN</td>\n",
       "      <td>4.1</td>\n",
       "      <td>159</td>\n",
       "      <td>19.0</td>\n",
       "      <td>10,000+</td>\n",
       "      <td>Free</td>\n",
       "      <td>0</td>\n",
       "      <td>Everyone</td>\n",
       "      <td>Art &amp; Design</td>\n",
       "      <td>January 7, 2018</td>\n",
       "      <td>1.0.0</td>\n",
       "      <td>4.0.3 and up</td>\n",
       "    </tr>\n",
       "    <tr>\n",
       "      <th>1</th>\n",
       "      <td>1</td>\n",
       "      <td>Coloring book moana</td>\n",
       "      <td>ART_AND_DESIGN</td>\n",
       "      <td>3.9</td>\n",
       "      <td>967</td>\n",
       "      <td>14.0</td>\n",
       "      <td>500,000+</td>\n",
       "      <td>Free</td>\n",
       "      <td>0</td>\n",
       "      <td>Everyone</td>\n",
       "      <td>Art &amp; Design;Pretend Play</td>\n",
       "      <td>January 15, 2018</td>\n",
       "      <td>2.0.0</td>\n",
       "      <td>4.0.3 and up</td>\n",
       "    </tr>\n",
       "    <tr>\n",
       "      <th>2</th>\n",
       "      <td>2</td>\n",
       "      <td>U Launcher Lite – FREE Live Cool Themes, Hide ...</td>\n",
       "      <td>ART_AND_DESIGN</td>\n",
       "      <td>4.7</td>\n",
       "      <td>87510</td>\n",
       "      <td>8.7</td>\n",
       "      <td>5,000,000+</td>\n",
       "      <td>Free</td>\n",
       "      <td>0</td>\n",
       "      <td>Everyone</td>\n",
       "      <td>Art &amp; Design</td>\n",
       "      <td>August 1, 2018</td>\n",
       "      <td>1.2.4</td>\n",
       "      <td>4.0.3 and up</td>\n",
       "    </tr>\n",
       "    <tr>\n",
       "      <th>3</th>\n",
       "      <td>3</td>\n",
       "      <td>Sketch - Draw &amp; Paint</td>\n",
       "      <td>ART_AND_DESIGN</td>\n",
       "      <td>4.5</td>\n",
       "      <td>215644</td>\n",
       "      <td>25.0</td>\n",
       "      <td>50,000,000+</td>\n",
       "      <td>Free</td>\n",
       "      <td>0</td>\n",
       "      <td>Teen</td>\n",
       "      <td>Art &amp; Design</td>\n",
       "      <td>June 8, 2018</td>\n",
       "      <td>Varies with device</td>\n",
       "      <td>4.2 and up</td>\n",
       "    </tr>\n",
       "    <tr>\n",
       "      <th>4</th>\n",
       "      <td>4</td>\n",
       "      <td>Pixel Draw - Number Art Coloring Book</td>\n",
       "      <td>ART_AND_DESIGN</td>\n",
       "      <td>4.3</td>\n",
       "      <td>967</td>\n",
       "      <td>2.8</td>\n",
       "      <td>100,000+</td>\n",
       "      <td>Free</td>\n",
       "      <td>0</td>\n",
       "      <td>Everyone</td>\n",
       "      <td>Art &amp; Design;Creativity</td>\n",
       "      <td>June 20, 2018</td>\n",
       "      <td>1.1</td>\n",
       "      <td>4.4 and up</td>\n",
       "    </tr>\n",
       "    <tr>\n",
       "      <th>...</th>\n",
       "      <td>...</td>\n",
       "      <td>...</td>\n",
       "      <td>...</td>\n",
       "      <td>...</td>\n",
       "      <td>...</td>\n",
       "      <td>...</td>\n",
       "      <td>...</td>\n",
       "      <td>...</td>\n",
       "      <td>...</td>\n",
       "      <td>...</td>\n",
       "      <td>...</td>\n",
       "      <td>...</td>\n",
       "      <td>...</td>\n",
       "      <td>...</td>\n",
       "    </tr>\n",
       "    <tr>\n",
       "      <th>9654</th>\n",
       "      <td>10836</td>\n",
       "      <td>Sya9a Maroc - FR</td>\n",
       "      <td>FAMILY</td>\n",
       "      <td>4.5</td>\n",
       "      <td>38</td>\n",
       "      <td>53.0</td>\n",
       "      <td>5,000+</td>\n",
       "      <td>Free</td>\n",
       "      <td>0</td>\n",
       "      <td>Everyone</td>\n",
       "      <td>Education</td>\n",
       "      <td>July 25, 2017</td>\n",
       "      <td>1.48</td>\n",
       "      <td>4.1 and up</td>\n",
       "    </tr>\n",
       "    <tr>\n",
       "      <th>9655</th>\n",
       "      <td>10837</td>\n",
       "      <td>Fr. Mike Schmitz Audio Teachings</td>\n",
       "      <td>FAMILY</td>\n",
       "      <td>5.0</td>\n",
       "      <td>4</td>\n",
       "      <td>3.6</td>\n",
       "      <td>100+</td>\n",
       "      <td>Free</td>\n",
       "      <td>0</td>\n",
       "      <td>Everyone</td>\n",
       "      <td>Education</td>\n",
       "      <td>July 6, 2018</td>\n",
       "      <td>1</td>\n",
       "      <td>4.1 and up</td>\n",
       "    </tr>\n",
       "    <tr>\n",
       "      <th>9656</th>\n",
       "      <td>10838</td>\n",
       "      <td>Parkinson Exercices FR</td>\n",
       "      <td>MEDICAL</td>\n",
       "      <td>NaN</td>\n",
       "      <td>3</td>\n",
       "      <td>9.5</td>\n",
       "      <td>1,000+</td>\n",
       "      <td>Free</td>\n",
       "      <td>0</td>\n",
       "      <td>Everyone</td>\n",
       "      <td>Medical</td>\n",
       "      <td>January 20, 2017</td>\n",
       "      <td>1</td>\n",
       "      <td>2.2 and up</td>\n",
       "    </tr>\n",
       "    <tr>\n",
       "      <th>9657</th>\n",
       "      <td>10839</td>\n",
       "      <td>The SCP Foundation DB fr nn5n</td>\n",
       "      <td>BOOKS_AND_REFERENCE</td>\n",
       "      <td>4.5</td>\n",
       "      <td>114</td>\n",
       "      <td>NaN</td>\n",
       "      <td>1,000+</td>\n",
       "      <td>Free</td>\n",
       "      <td>0</td>\n",
       "      <td>Mature 17+</td>\n",
       "      <td>Books &amp; Reference</td>\n",
       "      <td>January 19, 2015</td>\n",
       "      <td>Varies with device</td>\n",
       "      <td>Varies with device</td>\n",
       "    </tr>\n",
       "    <tr>\n",
       "      <th>9658</th>\n",
       "      <td>10840</td>\n",
       "      <td>iHoroscope - 2018 Daily Horoscope &amp; Astrology</td>\n",
       "      <td>LIFESTYLE</td>\n",
       "      <td>4.5</td>\n",
       "      <td>398307</td>\n",
       "      <td>19.0</td>\n",
       "      <td>10,000,000+</td>\n",
       "      <td>Free</td>\n",
       "      <td>0</td>\n",
       "      <td>Everyone</td>\n",
       "      <td>Lifestyle</td>\n",
       "      <td>July 25, 2018</td>\n",
       "      <td>Varies with device</td>\n",
       "      <td>Varies with device</td>\n",
       "    </tr>\n",
       "  </tbody>\n",
       "</table>\n",
       "<p>9659 rows × 14 columns</p>\n",
       "</div>"
      ],
      "text/plain": [
       "      Unnamed: 0                                                App  \\\n",
       "0              0     Photo Editor & Candy Camera & Grid & ScrapBook   \n",
       "1              1                                Coloring book moana   \n",
       "2              2  U Launcher Lite – FREE Live Cool Themes, Hide ...   \n",
       "3              3                              Sketch - Draw & Paint   \n",
       "4              4              Pixel Draw - Number Art Coloring Book   \n",
       "...          ...                                                ...   \n",
       "9654       10836                                   Sya9a Maroc - FR   \n",
       "9655       10837                   Fr. Mike Schmitz Audio Teachings   \n",
       "9656       10838                             Parkinson Exercices FR   \n",
       "9657       10839                      The SCP Foundation DB fr nn5n   \n",
       "9658       10840      iHoroscope - 2018 Daily Horoscope & Astrology   \n",
       "\n",
       "                 Category  Rating  Reviews  Size     Installs  Type Price  \\\n",
       "0          ART_AND_DESIGN     4.1      159  19.0      10,000+  Free     0   \n",
       "1          ART_AND_DESIGN     3.9      967  14.0     500,000+  Free     0   \n",
       "2          ART_AND_DESIGN     4.7    87510   8.7   5,000,000+  Free     0   \n",
       "3          ART_AND_DESIGN     4.5   215644  25.0  50,000,000+  Free     0   \n",
       "4          ART_AND_DESIGN     4.3      967   2.8     100,000+  Free     0   \n",
       "...                   ...     ...      ...   ...          ...   ...   ...   \n",
       "9654               FAMILY     4.5       38  53.0       5,000+  Free     0   \n",
       "9655               FAMILY     5.0        4   3.6         100+  Free     0   \n",
       "9656              MEDICAL     NaN        3   9.5       1,000+  Free     0   \n",
       "9657  BOOKS_AND_REFERENCE     4.5      114   NaN       1,000+  Free     0   \n",
       "9658            LIFESTYLE     4.5   398307  19.0  10,000,000+  Free     0   \n",
       "\n",
       "     Content Rating                     Genres      Last Updated  \\\n",
       "0          Everyone               Art & Design   January 7, 2018   \n",
       "1          Everyone  Art & Design;Pretend Play  January 15, 2018   \n",
       "2          Everyone               Art & Design    August 1, 2018   \n",
       "3              Teen               Art & Design      June 8, 2018   \n",
       "4          Everyone    Art & Design;Creativity     June 20, 2018   \n",
       "...             ...                        ...               ...   \n",
       "9654       Everyone                  Education     July 25, 2017   \n",
       "9655       Everyone                  Education      July 6, 2018   \n",
       "9656       Everyone                    Medical  January 20, 2017   \n",
       "9657     Mature 17+          Books & Reference  January 19, 2015   \n",
       "9658       Everyone                  Lifestyle     July 25, 2018   \n",
       "\n",
       "             Current Ver         Android Ver  \n",
       "0                  1.0.0        4.0.3 and up  \n",
       "1                  2.0.0        4.0.3 and up  \n",
       "2                  1.2.4        4.0.3 and up  \n",
       "3     Varies with device          4.2 and up  \n",
       "4                    1.1          4.4 and up  \n",
       "...                  ...                 ...  \n",
       "9654                1.48          4.1 and up  \n",
       "9655                   1          4.1 and up  \n",
       "9656                   1          2.2 and up  \n",
       "9657  Varies with device  Varies with device  \n",
       "9658  Varies with device  Varies with device  \n",
       "\n",
       "[9659 rows x 14 columns]"
      ]
     },
     "execution_count": 1584,
     "metadata": {},
     "output_type": "execute_result"
    }
   ],
   "source": [
    "DATA_PATH = \"../data/apps.csv\"\n",
    "raw_data_df = pd.read_csv(DATA_PATH, delimiter=\",\")\n",
    "raw_data_df"
   ]
  },
  {
   "cell_type": "code",
   "execution_count": 1585,
   "metadata": {},
   "outputs": [
    {
     "data": {
      "text/html": [
       "<div>\n",
       "<style scoped>\n",
       "    .dataframe tbody tr th:only-of-type {\n",
       "        vertical-align: middle;\n",
       "    }\n",
       "\n",
       "    .dataframe tbody tr th {\n",
       "        vertical-align: top;\n",
       "    }\n",
       "\n",
       "    .dataframe thead th {\n",
       "        text-align: right;\n",
       "    }\n",
       "</style>\n",
       "<table border=\"1\" class=\"dataframe\">\n",
       "  <thead>\n",
       "    <tr style=\"text-align: right;\">\n",
       "      <th></th>\n",
       "      <th>Unnamed: 0</th>\n",
       "      <th>App</th>\n",
       "      <th>Category</th>\n",
       "      <th>Rating</th>\n",
       "      <th>Reviews</th>\n",
       "      <th>Size</th>\n",
       "      <th>Installs</th>\n",
       "      <th>Type</th>\n",
       "      <th>Price</th>\n",
       "      <th>Content Rating</th>\n",
       "      <th>Genres</th>\n",
       "      <th>Last Updated</th>\n",
       "      <th>Current Ver</th>\n",
       "      <th>Android Ver</th>\n",
       "    </tr>\n",
       "  </thead>\n",
       "  <tbody>\n",
       "    <tr>\n",
       "      <th>0</th>\n",
       "      <td>0</td>\n",
       "      <td>Photo Editor &amp; Candy Camera &amp; Grid &amp; ScrapBook</td>\n",
       "      <td>ART_AND_DESIGN</td>\n",
       "      <td>4.1</td>\n",
       "      <td>159</td>\n",
       "      <td>19.0</td>\n",
       "      <td>10,000+</td>\n",
       "      <td>Free</td>\n",
       "      <td>0</td>\n",
       "      <td>Everyone</td>\n",
       "      <td>Art &amp; Design</td>\n",
       "      <td>January 7, 2018</td>\n",
       "      <td>1.0.0</td>\n",
       "      <td>4.0.3 and up</td>\n",
       "    </tr>\n",
       "    <tr>\n",
       "      <th>1</th>\n",
       "      <td>1</td>\n",
       "      <td>Coloring book moana</td>\n",
       "      <td>ART_AND_DESIGN</td>\n",
       "      <td>3.9</td>\n",
       "      <td>967</td>\n",
       "      <td>14.0</td>\n",
       "      <td>500,000+</td>\n",
       "      <td>Free</td>\n",
       "      <td>0</td>\n",
       "      <td>Everyone</td>\n",
       "      <td>Art &amp; Design;Pretend Play</td>\n",
       "      <td>January 15, 2018</td>\n",
       "      <td>2.0.0</td>\n",
       "      <td>4.0.3 and up</td>\n",
       "    </tr>\n",
       "    <tr>\n",
       "      <th>2</th>\n",
       "      <td>2</td>\n",
       "      <td>U Launcher Lite – FREE Live Cool Themes, Hide ...</td>\n",
       "      <td>ART_AND_DESIGN</td>\n",
       "      <td>4.7</td>\n",
       "      <td>87510</td>\n",
       "      <td>8.7</td>\n",
       "      <td>5,000,000+</td>\n",
       "      <td>Free</td>\n",
       "      <td>0</td>\n",
       "      <td>Everyone</td>\n",
       "      <td>Art &amp; Design</td>\n",
       "      <td>August 1, 2018</td>\n",
       "      <td>1.2.4</td>\n",
       "      <td>4.0.3 and up</td>\n",
       "    </tr>\n",
       "    <tr>\n",
       "      <th>3</th>\n",
       "      <td>3</td>\n",
       "      <td>Sketch - Draw &amp; Paint</td>\n",
       "      <td>ART_AND_DESIGN</td>\n",
       "      <td>4.5</td>\n",
       "      <td>215644</td>\n",
       "      <td>25.0</td>\n",
       "      <td>50,000,000+</td>\n",
       "      <td>Free</td>\n",
       "      <td>0</td>\n",
       "      <td>Teen</td>\n",
       "      <td>Art &amp; Design</td>\n",
       "      <td>June 8, 2018</td>\n",
       "      <td>Varies with device</td>\n",
       "      <td>4.2 and up</td>\n",
       "    </tr>\n",
       "    <tr>\n",
       "      <th>4</th>\n",
       "      <td>4</td>\n",
       "      <td>Pixel Draw - Number Art Coloring Book</td>\n",
       "      <td>ART_AND_DESIGN</td>\n",
       "      <td>4.3</td>\n",
       "      <td>967</td>\n",
       "      <td>2.8</td>\n",
       "      <td>100,000+</td>\n",
       "      <td>Free</td>\n",
       "      <td>0</td>\n",
       "      <td>Everyone</td>\n",
       "      <td>Art &amp; Design;Creativity</td>\n",
       "      <td>June 20, 2018</td>\n",
       "      <td>1.1</td>\n",
       "      <td>4.4 and up</td>\n",
       "    </tr>\n",
       "  </tbody>\n",
       "</table>\n",
       "</div>"
      ],
      "text/plain": [
       "   Unnamed: 0                                                App  \\\n",
       "0           0     Photo Editor & Candy Camera & Grid & ScrapBook   \n",
       "1           1                                Coloring book moana   \n",
       "2           2  U Launcher Lite – FREE Live Cool Themes, Hide ...   \n",
       "3           3                              Sketch - Draw & Paint   \n",
       "4           4              Pixel Draw - Number Art Coloring Book   \n",
       "\n",
       "         Category  Rating  Reviews  Size     Installs  Type Price  \\\n",
       "0  ART_AND_DESIGN     4.1      159  19.0      10,000+  Free     0   \n",
       "1  ART_AND_DESIGN     3.9      967  14.0     500,000+  Free     0   \n",
       "2  ART_AND_DESIGN     4.7    87510   8.7   5,000,000+  Free     0   \n",
       "3  ART_AND_DESIGN     4.5   215644  25.0  50,000,000+  Free     0   \n",
       "4  ART_AND_DESIGN     4.3      967   2.8     100,000+  Free     0   \n",
       "\n",
       "  Content Rating                     Genres      Last Updated  \\\n",
       "0       Everyone               Art & Design   January 7, 2018   \n",
       "1       Everyone  Art & Design;Pretend Play  January 15, 2018   \n",
       "2       Everyone               Art & Design    August 1, 2018   \n",
       "3           Teen               Art & Design      June 8, 2018   \n",
       "4       Everyone    Art & Design;Creativity     June 20, 2018   \n",
       "\n",
       "          Current Ver   Android Ver  \n",
       "0               1.0.0  4.0.3 and up  \n",
       "1               2.0.0  4.0.3 and up  \n",
       "2               1.2.4  4.0.3 and up  \n",
       "3  Varies with device    4.2 and up  \n",
       "4                 1.1    4.4 and up  "
      ]
     },
     "execution_count": 1585,
     "metadata": {},
     "output_type": "execute_result"
    }
   ],
   "source": [
    "df_cleaned = raw_data_df.copy()\n",
    "df_cleaned.head()"
   ]
  },
  {
   "cell_type": "code",
   "execution_count": 1586,
   "metadata": {},
   "outputs": [
    {
     "data": {
      "text/plain": [
       "9659"
      ]
     },
     "execution_count": 1586,
     "metadata": {},
     "output_type": "execute_result"
    }
   ],
   "source": [
    "df_cleaned.shape[0]"
   ]
  },
  {
   "cell_type": "code",
   "execution_count": 1587,
   "metadata": {},
   "outputs": [
    {
     "name": "stdout",
     "output_type": "stream",
     "text": [
      "<class 'pandas.core.frame.DataFrame'>\n",
      "RangeIndex: 9659 entries, 0 to 9658\n",
      "Data columns (total 14 columns):\n",
      " #   Column          Non-Null Count  Dtype  \n",
      "---  ------          --------------  -----  \n",
      " 0   Unnamed: 0      9659 non-null   int64  \n",
      " 1   App             9659 non-null   object \n",
      " 2   Category        9659 non-null   object \n",
      " 3   Rating          8196 non-null   float64\n",
      " 4   Reviews         9659 non-null   int64  \n",
      " 5   Size            8432 non-null   float64\n",
      " 6   Installs        9659 non-null   object \n",
      " 7   Type            9659 non-null   object \n",
      " 8   Price           9659 non-null   object \n",
      " 9   Content Rating  9659 non-null   object \n",
      " 10  Genres          9659 non-null   object \n",
      " 11  Last Updated    9659 non-null   object \n",
      " 12  Current Ver     9651 non-null   object \n",
      " 13  Android Ver     9657 non-null   object \n",
      "dtypes: float64(2), int64(2), object(10)\n",
      "memory usage: 1.0+ MB\n"
     ]
    }
   ],
   "source": [
    "df_cleaned.info()"
   ]
  },
  {
   "cell_type": "markdown",
   "metadata": {},
   "source": [
    "Missing values:\n",
    "- Rating\n",
    "- Size\n",
    "- Current Ver\n",
    "- Android Ver"
   ]
  },
  {
   "cell_type": "code",
   "execution_count": 1588,
   "metadata": {},
   "outputs": [
    {
     "data": {
      "text/html": [
       "<div>\n",
       "<style scoped>\n",
       "    .dataframe tbody tr th:only-of-type {\n",
       "        vertical-align: middle;\n",
       "    }\n",
       "\n",
       "    .dataframe tbody tr th {\n",
       "        vertical-align: top;\n",
       "    }\n",
       "\n",
       "    .dataframe thead th {\n",
       "        text-align: right;\n",
       "    }\n",
       "</style>\n",
       "<table border=\"1\" class=\"dataframe\">\n",
       "  <thead>\n",
       "    <tr style=\"text-align: right;\">\n",
       "      <th></th>\n",
       "      <th>Unnamed: 0</th>\n",
       "      <th>Rating</th>\n",
       "      <th>Reviews</th>\n",
       "      <th>Size</th>\n",
       "    </tr>\n",
       "  </thead>\n",
       "  <tbody>\n",
       "    <tr>\n",
       "      <th>count</th>\n",
       "      <td>9659.000000</td>\n",
       "      <td>8196.000000</td>\n",
       "      <td>9.659000e+03</td>\n",
       "      <td>8432.000000</td>\n",
       "    </tr>\n",
       "    <tr>\n",
       "      <th>mean</th>\n",
       "      <td>5666.172896</td>\n",
       "      <td>4.173243</td>\n",
       "      <td>2.165926e+05</td>\n",
       "      <td>20.395327</td>\n",
       "    </tr>\n",
       "    <tr>\n",
       "      <th>std</th>\n",
       "      <td>3102.362863</td>\n",
       "      <td>0.536625</td>\n",
       "      <td>1.831320e+06</td>\n",
       "      <td>21.827509</td>\n",
       "    </tr>\n",
       "    <tr>\n",
       "      <th>min</th>\n",
       "      <td>0.000000</td>\n",
       "      <td>1.000000</td>\n",
       "      <td>0.000000e+00</td>\n",
       "      <td>0.000000</td>\n",
       "    </tr>\n",
       "    <tr>\n",
       "      <th>25%</th>\n",
       "      <td>3111.500000</td>\n",
       "      <td>4.000000</td>\n",
       "      <td>2.500000e+01</td>\n",
       "      <td>4.600000</td>\n",
       "    </tr>\n",
       "    <tr>\n",
       "      <th>50%</th>\n",
       "      <td>5814.000000</td>\n",
       "      <td>4.300000</td>\n",
       "      <td>9.670000e+02</td>\n",
       "      <td>12.000000</td>\n",
       "    </tr>\n",
       "    <tr>\n",
       "      <th>75%</th>\n",
       "      <td>8327.500000</td>\n",
       "      <td>4.500000</td>\n",
       "      <td>2.940100e+04</td>\n",
       "      <td>28.000000</td>\n",
       "    </tr>\n",
       "    <tr>\n",
       "      <th>max</th>\n",
       "      <td>10840.000000</td>\n",
       "      <td>5.000000</td>\n",
       "      <td>7.815831e+07</td>\n",
       "      <td>100.000000</td>\n",
       "    </tr>\n",
       "  </tbody>\n",
       "</table>\n",
       "</div>"
      ],
      "text/plain": [
       "         Unnamed: 0       Rating       Reviews         Size\n",
       "count   9659.000000  8196.000000  9.659000e+03  8432.000000\n",
       "mean    5666.172896     4.173243  2.165926e+05    20.395327\n",
       "std     3102.362863     0.536625  1.831320e+06    21.827509\n",
       "min        0.000000     1.000000  0.000000e+00     0.000000\n",
       "25%     3111.500000     4.000000  2.500000e+01     4.600000\n",
       "50%     5814.000000     4.300000  9.670000e+02    12.000000\n",
       "75%     8327.500000     4.500000  2.940100e+04    28.000000\n",
       "max    10840.000000     5.000000  7.815831e+07   100.000000"
      ]
     },
     "execution_count": 1588,
     "metadata": {},
     "output_type": "execute_result"
    }
   ],
   "source": [
    "df_cleaned.describe()"
   ]
  },
  {
   "cell_type": "markdown",
   "metadata": {},
   "source": [
    "## Data cleaning & preprocessing"
   ]
  },
  {
   "cell_type": "markdown",
   "metadata": {},
   "source": [
    "- Drop columns: {Unnamed: 0, Android Ver, Current Ver, Last Updated}\n",
    "- Rename columns: {Installs: Downloads, Content Rating: Content Group}\n",
    "\n",
    "<br>\n",
    "\n",
    "- Category (is fine)\n",
    "- Rating\n",
    "- Reviews\n",
    "- Size\n",
    "- Installs\n",
    "- Type\n",
    "- Price\n",
    "- Content Rating\n",
    "- Genres  \n",
    "\n",
    "<br>\n",
    "\n",
    "- Genre -> \";\" split and copy row!\n",
    "- drop all ratings under 15 reviews (each had the chance to get voted)\n",
    "- ratings -> 0 - 5 .5 steps\n",
    "- ratings -> 0 - 5 1 steps (.5 rounded)"
   ]
  },
  {
   "cell_type": "markdown",
   "metadata": {},
   "source": [
    "### Columns and constants"
   ]
  },
  {
   "cell_type": "code",
   "execution_count": 1589,
   "metadata": {},
   "outputs": [
    {
     "data": {
      "text/plain": [
       "Index(['Unnamed: 0', 'App', 'Category', 'Rating', 'Reviews', 'Size',\n",
       "       'Installs', 'Type', 'Price', 'Content Rating', 'Genres', 'Last Updated',\n",
       "       'Current Ver', 'Android Ver'],\n",
       "      dtype='object')"
      ]
     },
     "execution_count": 1589,
     "metadata": {},
     "output_type": "execute_result"
    }
   ],
   "source": [
    "df_cleaned.columns"
   ]
  },
  {
   "cell_type": "code",
   "execution_count": 1590,
   "metadata": {},
   "outputs": [],
   "source": [
    "# columns\n",
    "UNNAMED = \"Unnamed: 0\"\n",
    "APP_NAME = \"App\"\n",
    "CATEGORY = \"Category\"\n",
    "RATING = \"Rating\"\n",
    "REVIEWS = \"Reviews\"\n",
    "SIZE = \"Size\"\n",
    "INSTALLS = \"Installs\"\n",
    "TYPE = \"Type\"\n",
    "PRICE = \"Price\"\n",
    "CONTENT_RATING = \"Content Rating\"\n",
    "GENRE = \"Genres\"\n",
    "LAST_UPDATED = \"Last Updated\"\n",
    "CURR_VERSION = \"Current Ver\"\n",
    "ANDROID_VERSION = \"Android Ver\"\n",
    "\n",
    "# added columns\n",
    "DOWNLOADS = \"Downloads\"\n",
    "DOWNLOAD_RATE = \"Download Rate\"\n",
    "CONTENT_GROUP = \"Content Group\"\n",
    "RATING_CLASS = \"Rating Class\"\n",
    "REVIEW_RATE = \"Review Rate\"\n",
    "SIZE_CLASS = \"Size Class\"\n",
    "PRICE_CLASS = \"Price Class\"\n",
    "\n",
    "# notebook constants\n",
    "COUNT = \"count\"\n",
    "MEAN = \"mean\"\n",
    "SUM = \"sum\"\n",
    "MEDIAN = \"median\""
   ]
  },
  {
   "cell_type": "markdown",
   "metadata": {},
   "source": [
    "### Drop columns: {Unnamed: 0, Category, Android Ver, Current Ver, Last Updated}"
   ]
  },
  {
   "cell_type": "code",
   "execution_count": 1591,
   "metadata": {},
   "outputs": [
    {
     "data": {
      "text/plain": [
       "Index(['App', 'Rating', 'Reviews', 'Size', 'Installs', 'Type', 'Price',\n",
       "       'Content Rating', 'Genres'],\n",
       "      dtype='object')"
      ]
     },
     "execution_count": 1591,
     "metadata": {},
     "output_type": "execute_result"
    }
   ],
   "source": [
    "df_cleaned.drop(columns={UNNAMED, CATEGORY, ANDROID_VERSION, CURR_VERSION, LAST_UPDATED}, inplace=True)\n",
    "df_cleaned.columns"
   ]
  },
  {
   "cell_type": "markdown",
   "metadata": {},
   "source": [
    "### Rename columns: {Installs: Downloads, Content Rating: Content Group}"
   ]
  },
  {
   "cell_type": "code",
   "execution_count": 1592,
   "metadata": {},
   "outputs": [
    {
     "data": {
      "text/plain": [
       "Index(['App', 'Rating', 'Reviews', 'Size', 'Downloads', 'Type', 'Price',\n",
       "       'Content Group', 'Genres'],\n",
       "      dtype='object')"
      ]
     },
     "execution_count": 1592,
     "metadata": {},
     "output_type": "execute_result"
    }
   ],
   "source": [
    "renaming_map = {INSTALLS: DOWNLOADS, CONTENT_RATING: CONTENT_GROUP}\n",
    "df_cleaned.rename(columns=renaming_map, inplace=True)\n",
    "df_cleaned.columns"
   ]
  },
  {
   "cell_type": "markdown",
   "metadata": {},
   "source": [
    "### Rating (1/2)"
   ]
  },
  {
   "cell_type": "code",
   "execution_count": 1593,
   "metadata": {},
   "outputs": [
    {
     "data": {
      "text/plain": [
       "0       4.1\n",
       "1       3.9\n",
       "2       4.7\n",
       "3       4.5\n",
       "4       4.3\n",
       "       ... \n",
       "9654    4.5\n",
       "9655    5.0\n",
       "9656    NaN\n",
       "9657    4.5\n",
       "9658    4.5\n",
       "Name: Rating, Length: 9659, dtype: float64"
      ]
     },
     "execution_count": 1593,
     "metadata": {},
     "output_type": "execute_result"
    }
   ],
   "source": [
    "df_cleaned[RATING]"
   ]
  },
  {
   "cell_type": "code",
   "execution_count": 1594,
   "metadata": {},
   "outputs": [
    {
     "data": {
      "text/plain": [
       "(1463, 9659, 0.15146495496428203)"
      ]
     },
     "execution_count": 1594,
     "metadata": {},
     "output_type": "execute_result"
    }
   ],
   "source": [
    "na_values = df_cleaned[RATING].isna().sum()\n",
    "total_values = df_cleaned.shape[0]\n",
    "na_values, total_values, na_values / total_values"
   ]
  },
  {
   "cell_type": "markdown",
   "metadata": {},
   "source": [
    "15% of the data doesn't contain rating values. <br>\n",
    "We interpolate them by the genre median."
   ]
  },
  {
   "cell_type": "code",
   "execution_count": 1595,
   "metadata": {},
   "outputs": [
    {
     "data": {
      "text/plain": [
       "array(['Art & Design;Action & Adventure', 'Beauty', 'Books & Reference',\n",
       "       'Business', 'Comics', 'Dating', 'Education', 'Events',\n",
       "       'Food & Drink', 'House & Home', 'Libraries & Demo', 'Medical',\n",
       "       'Tools', 'Parenting;Education', 'Parenting',\n",
       "       'Video Players & Editors', 'Personalization', 'Racing',\n",
       "       'Photography', 'Social', 'Arcade', 'Sports', 'Communication',\n",
       "       'Music', 'Trivia', 'Productivity', 'Educational;Education',\n",
       "       'Board', 'Entertainment', 'Auto & Vehicles', 'Finance',\n",
       "       'Lifestyle', 'Travel & Local', 'Shopping', 'Health & Fitness',\n",
       "       'Weather', 'Simulation', 'Casual', 'News & Magazines',\n",
       "       'Maps & Navigation', 'Action', 'Card', 'Strategy', 'Educational',\n",
       "       'Puzzle', 'Casino', 'Education;Brain Games', 'Trivia;Education',\n",
       "       'Word', 'Art & Design', 'Books & Reference;Creativity',\n",
       "       'Role Playing', 'Adventure', 'Arcade;Action & Adventure',\n",
       "       'Educational;Pretend Play', 'Role Playing;Education'], dtype=object)"
      ]
     },
     "execution_count": 1595,
     "metadata": {},
     "output_type": "execute_result"
    }
   ],
   "source": [
    "na_values_genre = df_cleaned.loc[df_cleaned[RATING].isna(), GENRE].unique()\n",
    "na_values_genre"
   ]
  },
  {
   "cell_type": "code",
   "execution_count": 1596,
   "metadata": {},
   "outputs": [
    {
     "data": {
      "text/plain": [
       "(56, 118)"
      ]
     },
     "execution_count": 1596,
     "metadata": {},
     "output_type": "execute_result"
    }
   ],
   "source": [
    "na_values_genre.shape[0], df_cleaned[GENRE].unique().shape[0]"
   ]
  },
  {
   "cell_type": "markdown",
   "metadata": {},
   "source": [
    "Before we can interpolate the rating by the genre, we need to clean the genre."
   ]
  },
  {
   "cell_type": "markdown",
   "metadata": {},
   "source": [
    "### Genre"
   ]
  },
  {
   "cell_type": "code",
   "execution_count": 1597,
   "metadata": {},
   "outputs": [
    {
     "data": {
      "text/plain": [
       "Tools                              826\n",
       "Entertainment                      561\n",
       "Education                          510\n",
       "Business                           420\n",
       "Medical                            395\n",
       "                                  ... \n",
       "Art & Design;Pretend Play            1\n",
       "Lifestyle;Pretend Play               1\n",
       "Comics;Creativity                    1\n",
       "Art & Design;Action & Adventure      1\n",
       "Strategy;Creativity                  1\n",
       "Name: Genres, Length: 118, dtype: int64"
      ]
     },
     "execution_count": 1597,
     "metadata": {},
     "output_type": "execute_result"
    }
   ],
   "source": [
    "df_cleaned[GENRE].value_counts()"
   ]
  },
  {
   "cell_type": "code",
   "execution_count": 1598,
   "metadata": {},
   "outputs": [
    {
     "data": {
      "text/plain": [
       "array(['Art & Design', 'Art & Design;Pretend Play',\n",
       "       'Art & Design;Creativity', 'Art & Design;Action & Adventure',\n",
       "       'Auto & Vehicles', 'Beauty', 'Books & Reference', 'Business',\n",
       "       'Comics', 'Comics;Creativity', 'Communication', 'Dating',\n",
       "       'Education;Education', 'Education', 'Education;Creativity',\n",
       "       'Education;Music & Video', 'Education;Action & Adventure',\n",
       "       'Education;Pretend Play', 'Education;Brain Games', 'Entertainment',\n",
       "       'Entertainment;Music & Video', 'Entertainment;Brain Games',\n",
       "       'Entertainment;Creativity', 'Events', 'Finance', 'Food & Drink',\n",
       "       'Health & Fitness', 'House & Home', 'Libraries & Demo',\n",
       "       'Lifestyle', 'Lifestyle;Pretend Play',\n",
       "       'Adventure;Action & Adventure', 'Arcade', 'Casual', 'Card',\n",
       "       'Casual;Pretend Play', 'Action', 'Strategy', 'Puzzle', 'Sports',\n",
       "       'Music', 'Word', 'Racing', 'Casual;Creativity',\n",
       "       'Casual;Action & Adventure', 'Simulation', 'Adventure', 'Board',\n",
       "       'Trivia', 'Role Playing', 'Simulation;Education',\n",
       "       'Action;Action & Adventure', 'Casual;Brain Games',\n",
       "       'Simulation;Action & Adventure', 'Educational;Creativity',\n",
       "       'Puzzle;Brain Games', 'Educational;Education',\n",
       "       'Educational;Brain Games', 'Educational;Pretend Play',\n",
       "       'Entertainment;Education', 'Casual;Education',\n",
       "       'Music;Music & Video', 'Racing;Action & Adventure',\n",
       "       'Arcade;Pretend Play', 'Role Playing;Action & Adventure',\n",
       "       'Simulation;Pretend Play', 'Puzzle;Creativity',\n",
       "       'Sports;Action & Adventure', 'Educational;Action & Adventure',\n",
       "       'Arcade;Action & Adventure', 'Entertainment;Action & Adventure',\n",
       "       'Puzzle;Action & Adventure', 'Strategy;Action & Adventure',\n",
       "       'Music & Audio;Music & Video', 'Health & Fitness;Education',\n",
       "       'Adventure;Education', 'Board;Brain Games',\n",
       "       'Board;Action & Adventure', 'Board;Pretend Play',\n",
       "       'Casual;Music & Video', 'Role Playing;Pretend Play',\n",
       "       'Entertainment;Pretend Play', 'Video Players & Editors;Creativity',\n",
       "       'Card;Action & Adventure', 'Medical', 'Social', 'Shopping',\n",
       "       'Photography', 'Travel & Local',\n",
       "       'Travel & Local;Action & Adventure', 'Tools', 'Tools;Education',\n",
       "       'Personalization', 'Productivity', 'Parenting',\n",
       "       'Parenting;Music & Video', 'Parenting;Education',\n",
       "       'Parenting;Brain Games', 'Weather', 'Video Players & Editors',\n",
       "       'Video Players & Editors;Music & Video', 'News & Magazines',\n",
       "       'Maps & Navigation', 'Health & Fitness;Action & Adventure',\n",
       "       'Educational', 'Casino', 'Adventure;Brain Games',\n",
       "       'Trivia;Education', 'Lifestyle;Education',\n",
       "       'Books & Reference;Creativity', 'Books & Reference;Education',\n",
       "       'Puzzle;Education', 'Role Playing;Education',\n",
       "       'Role Playing;Brain Games', 'Strategy;Education',\n",
       "       'Racing;Pretend Play', 'Communication;Creativity',\n",
       "       'Strategy;Creativity'], dtype=object)"
      ]
     },
     "execution_count": 1598,
     "metadata": {},
     "output_type": "execute_result"
    }
   ],
   "source": [
    "df_cleaned[GENRE].unique()"
   ]
  },
  {
   "cell_type": "code",
   "execution_count": 1599,
   "metadata": {},
   "outputs": [
    {
     "data": {
      "text/plain": [
       "118"
      ]
     },
     "execution_count": 1599,
     "metadata": {},
     "output_type": "execute_result"
    }
   ],
   "source": [
    "df_cleaned[GENRE].unique().shape[0]"
   ]
  },
  {
   "cell_type": "markdown",
   "metadata": {},
   "source": [
    "There are multiple genre in one record, separated by semicolon. <br>\n",
    "We split them and copy the duplicate the record."
   ]
  },
  {
   "cell_type": "code",
   "execution_count": 1600,
   "metadata": {},
   "outputs": [
    {
     "data": {
      "text/plain": [
       "9659"
      ]
     },
     "execution_count": 1600,
     "metadata": {},
     "output_type": "execute_result"
    }
   ],
   "source": [
    "curr_row_count = df_cleaned.shape[0]\n",
    "curr_row_count"
   ]
  },
  {
   "cell_type": "code",
   "execution_count": 1601,
   "metadata": {},
   "outputs": [
    {
     "data": {
      "text/plain": [
       "393"
      ]
     },
     "execution_count": 1601,
     "metadata": {},
     "output_type": "execute_result"
    }
   ],
   "source": [
    "is_multiple_genre = df_cleaned[GENRE].str.contains(\";\")\n",
    "df_multiple_genre = df_cleaned[is_multiple_genre]\n",
    "df_multiple_genre.shape[0]"
   ]
  },
  {
   "cell_type": "code",
   "execution_count": 1602,
   "metadata": {},
   "outputs": [
    {
     "data": {
      "text/html": [
       "<div>\n",
       "<style scoped>\n",
       "    .dataframe tbody tr th:only-of-type {\n",
       "        vertical-align: middle;\n",
       "    }\n",
       "\n",
       "    .dataframe tbody tr th {\n",
       "        vertical-align: top;\n",
       "    }\n",
       "\n",
       "    .dataframe thead th {\n",
       "        text-align: right;\n",
       "    }\n",
       "</style>\n",
       "<table border=\"1\" class=\"dataframe\">\n",
       "  <thead>\n",
       "    <tr style=\"text-align: right;\">\n",
       "      <th></th>\n",
       "      <th>App</th>\n",
       "      <th>Rating</th>\n",
       "      <th>Reviews</th>\n",
       "      <th>Size</th>\n",
       "      <th>Downloads</th>\n",
       "      <th>Type</th>\n",
       "      <th>Price</th>\n",
       "      <th>Content Group</th>\n",
       "      <th>Genres</th>\n",
       "    </tr>\n",
       "  </thead>\n",
       "  <tbody>\n",
       "    <tr>\n",
       "      <th>0</th>\n",
       "      <td>Photo Editor &amp; Candy Camera &amp; Grid &amp; ScrapBook</td>\n",
       "      <td>4.1</td>\n",
       "      <td>159</td>\n",
       "      <td>19.0</td>\n",
       "      <td>10,000+</td>\n",
       "      <td>Free</td>\n",
       "      <td>0</td>\n",
       "      <td>Everyone</td>\n",
       "      <td>Art &amp; Design</td>\n",
       "    </tr>\n",
       "    <tr>\n",
       "      <th>1</th>\n",
       "      <td>Coloring book moana</td>\n",
       "      <td>3.9</td>\n",
       "      <td>967</td>\n",
       "      <td>14.0</td>\n",
       "      <td>500,000+</td>\n",
       "      <td>Free</td>\n",
       "      <td>0</td>\n",
       "      <td>Everyone</td>\n",
       "      <td>Art &amp; Design;Pretend Play</td>\n",
       "    </tr>\n",
       "    <tr>\n",
       "      <th>2</th>\n",
       "      <td>U Launcher Lite – FREE Live Cool Themes, Hide ...</td>\n",
       "      <td>4.7</td>\n",
       "      <td>87510</td>\n",
       "      <td>8.7</td>\n",
       "      <td>5,000,000+</td>\n",
       "      <td>Free</td>\n",
       "      <td>0</td>\n",
       "      <td>Everyone</td>\n",
       "      <td>Art &amp; Design</td>\n",
       "    </tr>\n",
       "    <tr>\n",
       "      <th>3</th>\n",
       "      <td>Sketch - Draw &amp; Paint</td>\n",
       "      <td>4.5</td>\n",
       "      <td>215644</td>\n",
       "      <td>25.0</td>\n",
       "      <td>50,000,000+</td>\n",
       "      <td>Free</td>\n",
       "      <td>0</td>\n",
       "      <td>Teen</td>\n",
       "      <td>Art &amp; Design</td>\n",
       "    </tr>\n",
       "    <tr>\n",
       "      <th>4</th>\n",
       "      <td>Pixel Draw - Number Art Coloring Book</td>\n",
       "      <td>4.3</td>\n",
       "      <td>967</td>\n",
       "      <td>2.8</td>\n",
       "      <td>100,000+</td>\n",
       "      <td>Free</td>\n",
       "      <td>0</td>\n",
       "      <td>Everyone</td>\n",
       "      <td>Art &amp; Design;Creativity</td>\n",
       "    </tr>\n",
       "    <tr>\n",
       "      <th>...</th>\n",
       "      <td>...</td>\n",
       "      <td>...</td>\n",
       "      <td>...</td>\n",
       "      <td>...</td>\n",
       "      <td>...</td>\n",
       "      <td>...</td>\n",
       "      <td>...</td>\n",
       "      <td>...</td>\n",
       "      <td>...</td>\n",
       "    </tr>\n",
       "    <tr>\n",
       "      <th>9654</th>\n",
       "      <td>Sya9a Maroc - FR</td>\n",
       "      <td>4.5</td>\n",
       "      <td>38</td>\n",
       "      <td>53.0</td>\n",
       "      <td>5,000+</td>\n",
       "      <td>Free</td>\n",
       "      <td>0</td>\n",
       "      <td>Everyone</td>\n",
       "      <td>Education</td>\n",
       "    </tr>\n",
       "    <tr>\n",
       "      <th>9655</th>\n",
       "      <td>Fr. Mike Schmitz Audio Teachings</td>\n",
       "      <td>5.0</td>\n",
       "      <td>4</td>\n",
       "      <td>3.6</td>\n",
       "      <td>100+</td>\n",
       "      <td>Free</td>\n",
       "      <td>0</td>\n",
       "      <td>Everyone</td>\n",
       "      <td>Education</td>\n",
       "    </tr>\n",
       "    <tr>\n",
       "      <th>9656</th>\n",
       "      <td>Parkinson Exercices FR</td>\n",
       "      <td>NaN</td>\n",
       "      <td>3</td>\n",
       "      <td>9.5</td>\n",
       "      <td>1,000+</td>\n",
       "      <td>Free</td>\n",
       "      <td>0</td>\n",
       "      <td>Everyone</td>\n",
       "      <td>Medical</td>\n",
       "    </tr>\n",
       "    <tr>\n",
       "      <th>9657</th>\n",
       "      <td>The SCP Foundation DB fr nn5n</td>\n",
       "      <td>4.5</td>\n",
       "      <td>114</td>\n",
       "      <td>NaN</td>\n",
       "      <td>1,000+</td>\n",
       "      <td>Free</td>\n",
       "      <td>0</td>\n",
       "      <td>Mature 17+</td>\n",
       "      <td>Books &amp; Reference</td>\n",
       "    </tr>\n",
       "    <tr>\n",
       "      <th>9658</th>\n",
       "      <td>iHoroscope - 2018 Daily Horoscope &amp; Astrology</td>\n",
       "      <td>4.5</td>\n",
       "      <td>398307</td>\n",
       "      <td>19.0</td>\n",
       "      <td>10,000,000+</td>\n",
       "      <td>Free</td>\n",
       "      <td>0</td>\n",
       "      <td>Everyone</td>\n",
       "      <td>Lifestyle</td>\n",
       "    </tr>\n",
       "  </tbody>\n",
       "</table>\n",
       "<p>9659 rows × 9 columns</p>\n",
       "</div>"
      ],
      "text/plain": [
       "                                                    App  Rating  Reviews  \\\n",
       "0        Photo Editor & Candy Camera & Grid & ScrapBook     4.1      159   \n",
       "1                                   Coloring book moana     3.9      967   \n",
       "2     U Launcher Lite – FREE Live Cool Themes, Hide ...     4.7    87510   \n",
       "3                                 Sketch - Draw & Paint     4.5   215644   \n",
       "4                 Pixel Draw - Number Art Coloring Book     4.3      967   \n",
       "...                                                 ...     ...      ...   \n",
       "9654                                   Sya9a Maroc - FR     4.5       38   \n",
       "9655                   Fr. Mike Schmitz Audio Teachings     5.0        4   \n",
       "9656                             Parkinson Exercices FR     NaN        3   \n",
       "9657                      The SCP Foundation DB fr nn5n     4.5      114   \n",
       "9658      iHoroscope - 2018 Daily Horoscope & Astrology     4.5   398307   \n",
       "\n",
       "      Size    Downloads  Type Price Content Group                     Genres  \n",
       "0     19.0      10,000+  Free     0      Everyone               Art & Design  \n",
       "1     14.0     500,000+  Free     0      Everyone  Art & Design;Pretend Play  \n",
       "2      8.7   5,000,000+  Free     0      Everyone               Art & Design  \n",
       "3     25.0  50,000,000+  Free     0          Teen               Art & Design  \n",
       "4      2.8     100,000+  Free     0      Everyone    Art & Design;Creativity  \n",
       "...    ...          ...   ...   ...           ...                        ...  \n",
       "9654  53.0       5,000+  Free     0      Everyone                  Education  \n",
       "9655   3.6         100+  Free     0      Everyone                  Education  \n",
       "9656   9.5       1,000+  Free     0      Everyone                    Medical  \n",
       "9657   NaN       1,000+  Free     0    Mature 17+          Books & Reference  \n",
       "9658  19.0  10,000,000+  Free     0      Everyone                  Lifestyle  \n",
       "\n",
       "[9659 rows x 9 columns]"
      ]
     },
     "execution_count": 1602,
     "metadata": {},
     "output_type": "execute_result"
    }
   ],
   "source": [
    "df_cleaned"
   ]
  },
  {
   "cell_type": "code",
   "execution_count": 1603,
   "metadata": {},
   "outputs": [
    {
     "data": {
      "text/plain": [
       "(10052, 393, 9659, 9659)"
      ]
     },
     "execution_count": 1603,
     "metadata": {},
     "output_type": "execute_result"
    }
   ],
   "source": [
    "added_row_count = 0\n",
    "for row_index, row in df_multiple_genre.iterrows():\n",
    "    genres = row[GENRE].split(\";\")\n",
    "    for i in range(1, len(genres)):\n",
    "        added_row_count = added_row_count + 1\n",
    "        row[GENRE] = genres[i]\n",
    "        df_cleaned = pd.concat([df_cleaned, DataFrame(row).T], ignore_index=True)\n",
    "    \n",
    "    df_cleaned.loc[row_index, GENRE] = genres[0]\n",
    "df_cleaned.shape[0], added_row_count, df_cleaned.shape[0] - added_row_count, curr_row_count"
   ]
  },
  {
   "cell_type": "code",
   "execution_count": 1604,
   "metadata": {},
   "outputs": [
    {
     "data": {
      "text/html": [
       "<div>\n",
       "<style scoped>\n",
       "    .dataframe tbody tr th:only-of-type {\n",
       "        vertical-align: middle;\n",
       "    }\n",
       "\n",
       "    .dataframe tbody tr th {\n",
       "        vertical-align: top;\n",
       "    }\n",
       "\n",
       "    .dataframe thead th {\n",
       "        text-align: right;\n",
       "    }\n",
       "</style>\n",
       "<table border=\"1\" class=\"dataframe\">\n",
       "  <thead>\n",
       "    <tr style=\"text-align: right;\">\n",
       "      <th></th>\n",
       "      <th>App</th>\n",
       "      <th>Rating</th>\n",
       "      <th>Reviews</th>\n",
       "      <th>Size</th>\n",
       "      <th>Downloads</th>\n",
       "      <th>Type</th>\n",
       "      <th>Price</th>\n",
       "      <th>Content Group</th>\n",
       "      <th>Genres</th>\n",
       "    </tr>\n",
       "  </thead>\n",
       "  <tbody>\n",
       "    <tr>\n",
       "      <th>0</th>\n",
       "      <td>Photo Editor &amp; Candy Camera &amp; Grid &amp; ScrapBook</td>\n",
       "      <td>4.1</td>\n",
       "      <td>159</td>\n",
       "      <td>19.0</td>\n",
       "      <td>10,000+</td>\n",
       "      <td>Free</td>\n",
       "      <td>0</td>\n",
       "      <td>Everyone</td>\n",
       "      <td>Art &amp; Design</td>\n",
       "    </tr>\n",
       "    <tr>\n",
       "      <th>1</th>\n",
       "      <td>Coloring book moana</td>\n",
       "      <td>3.9</td>\n",
       "      <td>967</td>\n",
       "      <td>14.0</td>\n",
       "      <td>500,000+</td>\n",
       "      <td>Free</td>\n",
       "      <td>0</td>\n",
       "      <td>Everyone</td>\n",
       "      <td>Art &amp; Design</td>\n",
       "    </tr>\n",
       "    <tr>\n",
       "      <th>2</th>\n",
       "      <td>U Launcher Lite – FREE Live Cool Themes, Hide ...</td>\n",
       "      <td>4.7</td>\n",
       "      <td>87510</td>\n",
       "      <td>8.7</td>\n",
       "      <td>5,000,000+</td>\n",
       "      <td>Free</td>\n",
       "      <td>0</td>\n",
       "      <td>Everyone</td>\n",
       "      <td>Art &amp; Design</td>\n",
       "    </tr>\n",
       "    <tr>\n",
       "      <th>3</th>\n",
       "      <td>Sketch - Draw &amp; Paint</td>\n",
       "      <td>4.5</td>\n",
       "      <td>215644</td>\n",
       "      <td>25.0</td>\n",
       "      <td>50,000,000+</td>\n",
       "      <td>Free</td>\n",
       "      <td>0</td>\n",
       "      <td>Teen</td>\n",
       "      <td>Art &amp; Design</td>\n",
       "    </tr>\n",
       "    <tr>\n",
       "      <th>4</th>\n",
       "      <td>Pixel Draw - Number Art Coloring Book</td>\n",
       "      <td>4.3</td>\n",
       "      <td>967</td>\n",
       "      <td>2.8</td>\n",
       "      <td>100,000+</td>\n",
       "      <td>Free</td>\n",
       "      <td>0</td>\n",
       "      <td>Everyone</td>\n",
       "      <td>Art &amp; Design</td>\n",
       "    </tr>\n",
       "    <tr>\n",
       "      <th>...</th>\n",
       "      <td>...</td>\n",
       "      <td>...</td>\n",
       "      <td>...</td>\n",
       "      <td>...</td>\n",
       "      <td>...</td>\n",
       "      <td>...</td>\n",
       "      <td>...</td>\n",
       "      <td>...</td>\n",
       "      <td>...</td>\n",
       "    </tr>\n",
       "    <tr>\n",
       "      <th>10047</th>\n",
       "      <td>PBS KIDS Games</td>\n",
       "      <td>4.3</td>\n",
       "      <td>12919</td>\n",
       "      <td>94.0</td>\n",
       "      <td>1,000,000+</td>\n",
       "      <td>Free</td>\n",
       "      <td>0</td>\n",
       "      <td>Everyone</td>\n",
       "      <td>Education</td>\n",
       "    </tr>\n",
       "    <tr>\n",
       "      <th>10048</th>\n",
       "      <td>Dolphin and fish coloring book</td>\n",
       "      <td>3.9</td>\n",
       "      <td>2249</td>\n",
       "      <td>NaN</td>\n",
       "      <td>500,000+</td>\n",
       "      <td>Free</td>\n",
       "      <td>0</td>\n",
       "      <td>Everyone</td>\n",
       "      <td>Creativity</td>\n",
       "    </tr>\n",
       "    <tr>\n",
       "      <th>10049</th>\n",
       "      <td>Cake Shop - Kids Cooking</td>\n",
       "      <td>4.3</td>\n",
       "      <td>30668</td>\n",
       "      <td>33.0</td>\n",
       "      <td>5,000,000+</td>\n",
       "      <td>Free</td>\n",
       "      <td>0</td>\n",
       "      <td>Everyone</td>\n",
       "      <td>Pretend Play</td>\n",
       "    </tr>\n",
       "    <tr>\n",
       "      <th>10050</th>\n",
       "      <td>Hair saloon - Spa salon</td>\n",
       "      <td>4.2</td>\n",
       "      <td>38473</td>\n",
       "      <td>23.0</td>\n",
       "      <td>10,000,000+</td>\n",
       "      <td>Free</td>\n",
       "      <td>0</td>\n",
       "      <td>Everyone</td>\n",
       "      <td>Pretend Play</td>\n",
       "    </tr>\n",
       "    <tr>\n",
       "      <th>10051</th>\n",
       "      <td>Fairy Kingdom: World of Magic and Farming</td>\n",
       "      <td>4.4</td>\n",
       "      <td>129542</td>\n",
       "      <td>63.0</td>\n",
       "      <td>1,000,000+</td>\n",
       "      <td>Free</td>\n",
       "      <td>0</td>\n",
       "      <td>Everyone</td>\n",
       "      <td>Creativity</td>\n",
       "    </tr>\n",
       "  </tbody>\n",
       "</table>\n",
       "<p>10052 rows × 9 columns</p>\n",
       "</div>"
      ],
      "text/plain": [
       "                                                     App Rating Reviews  Size  \\\n",
       "0         Photo Editor & Candy Camera & Grid & ScrapBook    4.1     159  19.0   \n",
       "1                                    Coloring book moana    3.9     967  14.0   \n",
       "2      U Launcher Lite – FREE Live Cool Themes, Hide ...    4.7   87510   8.7   \n",
       "3                                  Sketch - Draw & Paint    4.5  215644  25.0   \n",
       "4                  Pixel Draw - Number Art Coloring Book    4.3     967   2.8   \n",
       "...                                                  ...    ...     ...   ...   \n",
       "10047                                     PBS KIDS Games    4.3   12919  94.0   \n",
       "10048                     Dolphin and fish coloring book    3.9    2249   NaN   \n",
       "10049                           Cake Shop - Kids Cooking    4.3   30668  33.0   \n",
       "10050                            Hair saloon - Spa salon    4.2   38473  23.0   \n",
       "10051          Fairy Kingdom: World of Magic and Farming    4.4  129542  63.0   \n",
       "\n",
       "         Downloads  Type Price Content Group        Genres  \n",
       "0          10,000+  Free     0      Everyone  Art & Design  \n",
       "1         500,000+  Free     0      Everyone  Art & Design  \n",
       "2       5,000,000+  Free     0      Everyone  Art & Design  \n",
       "3      50,000,000+  Free     0          Teen  Art & Design  \n",
       "4         100,000+  Free     0      Everyone  Art & Design  \n",
       "...            ...   ...   ...           ...           ...  \n",
       "10047   1,000,000+  Free     0      Everyone     Education  \n",
       "10048     500,000+  Free     0      Everyone    Creativity  \n",
       "10049   5,000,000+  Free     0      Everyone  Pretend Play  \n",
       "10050  10,000,000+  Free     0      Everyone  Pretend Play  \n",
       "10051   1,000,000+  Free     0      Everyone    Creativity  \n",
       "\n",
       "[10052 rows x 9 columns]"
      ]
     },
     "execution_count": 1604,
     "metadata": {},
     "output_type": "execute_result"
    }
   ],
   "source": [
    "df_cleaned"
   ]
  },
  {
   "cell_type": "code",
   "execution_count": 1605,
   "metadata": {},
   "outputs": [
    {
     "data": {
      "text/plain": [
       "0"
      ]
     },
     "execution_count": 1605,
     "metadata": {},
     "output_type": "execute_result"
    }
   ],
   "source": [
    "df_cleaned[GENRE].str.contains(\";\").sum()"
   ]
  },
  {
   "cell_type": "code",
   "execution_count": 1606,
   "metadata": {},
   "outputs": [
    {
     "data": {
      "text/plain": [
       "53"
      ]
     },
     "execution_count": 1606,
     "metadata": {},
     "output_type": "execute_result"
    }
   ],
   "source": [
    "df_cleaned[GENRE].unique().shape[0]"
   ]
  },
  {
   "cell_type": "markdown",
   "metadata": {},
   "source": [
    "Unique values from 118 to 53."
   ]
  },
  {
   "cell_type": "markdown",
   "metadata": {},
   "source": [
    "### Rating (2/2)"
   ]
  },
  {
   "cell_type": "code",
   "execution_count": 1607,
   "metadata": {},
   "outputs": [
    {
     "data": {
      "text/html": [
       "<div>\n",
       "<style scoped>\n",
       "    .dataframe tbody tr th:only-of-type {\n",
       "        vertical-align: middle;\n",
       "    }\n",
       "\n",
       "    .dataframe tbody tr th {\n",
       "        vertical-align: top;\n",
       "    }\n",
       "\n",
       "    .dataframe thead th {\n",
       "        text-align: right;\n",
       "    }\n",
       "</style>\n",
       "<table border=\"1\" class=\"dataframe\">\n",
       "  <thead>\n",
       "    <tr style=\"text-align: right;\">\n",
       "      <th></th>\n",
       "      <th>App</th>\n",
       "      <th>Rating</th>\n",
       "      <th>Reviews</th>\n",
       "      <th>Size</th>\n",
       "      <th>Downloads</th>\n",
       "      <th>Type</th>\n",
       "      <th>Price</th>\n",
       "      <th>Content Group</th>\n",
       "      <th>Genres</th>\n",
       "    </tr>\n",
       "  </thead>\n",
       "  <tbody>\n",
       "    <tr>\n",
       "      <th>count</th>\n",
       "      <td>10052</td>\n",
       "      <td>8575.0</td>\n",
       "      <td>10052</td>\n",
       "      <td>8781.0</td>\n",
       "      <td>10052</td>\n",
       "      <td>10052</td>\n",
       "      <td>10052</td>\n",
       "      <td>10052</td>\n",
       "      <td>10052</td>\n",
       "    </tr>\n",
       "    <tr>\n",
       "      <th>unique</th>\n",
       "      <td>9659</td>\n",
       "      <td>39.0</td>\n",
       "      <td>5330</td>\n",
       "      <td>191.0</td>\n",
       "      <td>21</td>\n",
       "      <td>2</td>\n",
       "      <td>92</td>\n",
       "      <td>6</td>\n",
       "      <td>53</td>\n",
       "    </tr>\n",
       "    <tr>\n",
       "      <th>top</th>\n",
       "      <td>Kids Learn Languages by Mondly</td>\n",
       "      <td>4.3</td>\n",
       "      <td>0</td>\n",
       "      <td>12.0</td>\n",
       "      <td>1,000,000+</td>\n",
       "      <td>Free</td>\n",
       "      <td>0</td>\n",
       "      <td>Everyone</td>\n",
       "      <td>Tools</td>\n",
       "    </tr>\n",
       "    <tr>\n",
       "      <th>freq</th>\n",
       "      <td>2</td>\n",
       "      <td>952.0</td>\n",
       "      <td>596</td>\n",
       "      <td>185.0</td>\n",
       "      <td>1519</td>\n",
       "      <td>9226</td>\n",
       "      <td>9226</td>\n",
       "      <td>8272</td>\n",
       "      <td>827</td>\n",
       "    </tr>\n",
       "  </tbody>\n",
       "</table>\n",
       "</div>"
      ],
      "text/plain": [
       "                                   App  Rating  Reviews    Size   Downloads  \\\n",
       "count                            10052  8575.0    10052  8781.0       10052   \n",
       "unique                            9659    39.0     5330   191.0          21   \n",
       "top     Kids Learn Languages by Mondly     4.3        0    12.0  1,000,000+   \n",
       "freq                                 2   952.0      596   185.0        1519   \n",
       "\n",
       "         Type  Price Content Group Genres  \n",
       "count   10052  10052         10052  10052  \n",
       "unique      2     92             6     53  \n",
       "top      Free      0      Everyone  Tools  \n",
       "freq     9226   9226          8272    827  "
      ]
     },
     "execution_count": 1607,
     "metadata": {},
     "output_type": "execute_result"
    }
   ],
   "source": [
    "df_cleaned.describe()"
   ]
  },
  {
   "cell_type": "markdown",
   "metadata": {},
   "source": [
    "#### Missing values"
   ]
  },
  {
   "cell_type": "code",
   "execution_count": 1608,
   "metadata": {},
   "outputs": [
    {
     "data": {
      "text/plain": [
       "1477"
      ]
     },
     "execution_count": 1608,
     "metadata": {},
     "output_type": "execute_result"
    }
   ],
   "source": [
    "df_cleaned[RATING].isna().sum()"
   ]
  },
  {
   "cell_type": "markdown",
   "metadata": {},
   "source": [
    "The na values count increase just by 14 values"
   ]
  },
  {
   "cell_type": "markdown",
   "metadata": {},
   "source": [
    "##### Interpolate na values by the genre median."
   ]
  },
  {
   "cell_type": "code",
   "execution_count": 1609,
   "metadata": {},
   "outputs": [
    {
     "data": {
      "text/plain": [
       "{'Action': 4.3,\n",
       " 'Action & Adventure': 4.3,\n",
       " 'Adventure': 4.3,\n",
       " 'Arcade': 4.3,\n",
       " 'Art & Design': 4.4,\n",
       " 'Auto & Vehicles': 4.3,\n",
       " 'Beauty': 4.3,\n",
       " 'Board': 4.3,\n",
       " 'Books & Reference': 4.5,\n",
       " 'Brain Games': 4.4,\n",
       " 'Business': 4.2,\n",
       " 'Card': 4.25,\n",
       " 'Casino': 4.4,\n",
       " 'Casual': 4.2,\n",
       " 'Comics': 4.4,\n",
       " 'Communication': 4.2,\n",
       " 'Creativity': 4.4,\n",
       " 'Dating': 4.1,\n",
       " 'Education': 4.4,\n",
       " 'Educational': 4.2,\n",
       " 'Entertainment': 4.2,\n",
       " 'Events': 4.5,\n",
       " 'Finance': 4.3,\n",
       " 'Food & Drink': 4.3,\n",
       " 'Health & Fitness': 4.5,\n",
       " 'House & Home': 4.2,\n",
       " 'Libraries & Demo': 4.2,\n",
       " 'Lifestyle': 4.2,\n",
       " 'Maps & Navigation': 4.2,\n",
       " 'Medical': 4.3,\n",
       " 'Music': 4.3,\n",
       " 'Music & Audio': 4.3,\n",
       " 'Music & Video': 4.2,\n",
       " 'News & Magazines': 4.2,\n",
       " 'Parenting': 4.4,\n",
       " 'Personalization': 4.4,\n",
       " 'Photography': 4.3,\n",
       " 'Pretend Play': 4.2,\n",
       " 'Productivity': 4.3,\n",
       " 'Puzzle': 4.4,\n",
       " 'Racing': 4.2,\n",
       " 'Role Playing': 4.3,\n",
       " 'Shopping': 4.3,\n",
       " 'Simulation': 4.2,\n",
       " 'Social': 4.3,\n",
       " 'Sports': 4.3,\n",
       " 'Strategy': 4.3,\n",
       " 'Tools': 4.2,\n",
       " 'Travel & Local': 4.2,\n",
       " 'Trivia': 4.25,\n",
       " 'Video Players & Editors': 4.2,\n",
       " 'Weather': 4.3,\n",
       " 'Word': 4.3}"
      ]
     },
     "execution_count": 1609,
     "metadata": {},
     "output_type": "execute_result"
    }
   ],
   "source": [
    "df_genre_median_map = df_cleaned.pivot_table(index=GENRE, values=RATING, aggfunc=MEDIAN).to_dict()[RATING]\n",
    "df_genre_median_map"
   ]
  },
  {
   "cell_type": "code",
   "execution_count": 1610,
   "metadata": {},
   "outputs": [
    {
     "data": {
      "text/plain": [
       "0"
      ]
     },
     "execution_count": 1610,
     "metadata": {},
     "output_type": "execute_result"
    }
   ],
   "source": [
    "is_rating_nan = df_cleaned[RATING].isna()\n",
    "df_cleaned.loc[is_rating_nan, RATING] = df_cleaned.loc[is_rating_nan, GENRE].map(df_genre_median_map)\n",
    "df_cleaned[RATING].isna().sum()"
   ]
  },
  {
   "cell_type": "markdown",
   "metadata": {},
   "source": [
    "We ware able to eliminate all missing values in the ranting feature!"
   ]
  },
  {
   "cell_type": "markdown",
   "metadata": {},
   "source": [
    "#### Abnormal Ratings"
   ]
  },
  {
   "cell_type": "code",
   "execution_count": 1611,
   "metadata": {},
   "outputs": [
    {
     "data": {
      "text/plain": [
       "(0, 0)"
      ]
     },
     "execution_count": 1611,
     "metadata": {},
     "output_type": "execute_result"
    }
   ],
   "source": [
    "df_cleaned[df_cleaned[RATING] < 0].shape[0], df_cleaned[df_cleaned[RATING] > 5].shape[0]"
   ]
  },
  {
   "cell_type": "markdown",
   "metadata": {},
   "source": [
    "Looks fine!"
   ]
  },
  {
   "cell_type": "markdown",
   "metadata": {},
   "source": [
    "#### Classification of Rating Class {1, 1.5, 2, 2.5, 3, 3.5, 4, 4.5, 5}"
   ]
  },
  {
   "cell_type": "code",
   "execution_count": 1612,
   "metadata": {},
   "outputs": [
    {
     "data": {
      "text/plain": [
       "0.5    2520\n",
       "1.5      20\n",
       "2.0      34\n",
       "2.5      73\n",
       "3.0     153\n",
       "3.5     445\n",
       "4.0    1234\n",
       "4.5    5301\n",
       "5.0     272\n",
       "Name: Rating Class, dtype: int64"
      ]
     },
     "execution_count": 1612,
     "metadata": {},
     "output_type": "execute_result"
    }
   ],
   "source": [
    "def get_rating_class(rating):\n",
    "    rating_class = int(rating * 10 / 5) / 2 + 0.5\n",
    "    return rating_class if rating_class < 5 and rating_class >= 0.5 else 5 if rating_class > 5 else 0.5\n",
    "\n",
    "df_cleaned[RATING_CLASS] = df_cleaned[RATING].apply(lambda rating: get_rating_class(rating))\n",
    "df_cleaned[RATING_CLASS].value_counts().sort_index()"
   ]
  },
  {
   "cell_type": "code",
   "execution_count": 1613,
   "metadata": {},
   "outputs": [
    {
     "data": {
      "text/plain": [
       "0"
      ]
     },
     "execution_count": 1613,
     "metadata": {},
     "output_type": "execute_result"
    }
   ],
   "source": [
    "df_cleaned[(df_cleaned[RATING] >= 0.5) & (df_cleaned[RATING] < 1)].shape[0]"
   ]
  },
  {
   "cell_type": "markdown",
   "metadata": {},
   "source": [
    "### Reviews"
   ]
  },
  {
   "cell_type": "code",
   "execution_count": 1614,
   "metadata": {},
   "outputs": [
    {
     "data": {
      "text/plain": [
       "count     10052\n",
       "unique     5330\n",
       "top           0\n",
       "freq        596\n",
       "Name: Reviews, dtype: int64"
      ]
     },
     "execution_count": 1614,
     "metadata": {},
     "output_type": "execute_result"
    }
   ],
   "source": [
    "df_cleaned[REVIEWS].describe()"
   ]
  },
  {
   "cell_type": "markdown",
   "metadata": {},
   "source": [
    "#### Missing values"
   ]
  },
  {
   "cell_type": "code",
   "execution_count": 1615,
   "metadata": {},
   "outputs": [
    {
     "data": {
      "text/plain": [
       "0"
      ]
     },
     "execution_count": 1615,
     "metadata": {},
     "output_type": "execute_result"
    }
   ],
   "source": [
    "df_cleaned[REVIEWS].isna().sum()"
   ]
  },
  {
   "cell_type": "markdown",
   "metadata": {},
   "source": [
    "#### Classification of reviews to Review Rate {High, Medium, Low}"
   ]
  },
  {
   "cell_type": "code",
   "execution_count": 1616,
   "metadata": {},
   "outputs": [
    {
     "data": {
      "text/plain": [
       "High      3351\n",
       "Low       3351\n",
       "Medium    3350\n",
       "Name: Review Rate, dtype: int64"
      ]
     },
     "execution_count": 1616,
     "metadata": {},
     "output_type": "execute_result"
    }
   ],
   "source": [
    "q1, q2 = df_cleaned[REVIEWS].quantile(q=[1/3, 2/3])\n",
    "df_cleaned[REVIEW_RATE] = df_cleaned[REVIEWS].apply(lambda review_count: \"Low\" if review_count <= q1 else \"Medium\" if review_count <= q2 else \"High\")\n",
    "df_cleaned[REVIEW_RATE].value_counts()"
   ]
  },
  {
   "cell_type": "markdown",
   "metadata": {},
   "source": [
    "### Size"
   ]
  },
  {
   "cell_type": "code",
   "execution_count": 1617,
   "metadata": {},
   "outputs": [
    {
     "data": {
      "text/plain": [
       "count     8781.0\n",
       "unique     191.0\n",
       "top         12.0\n",
       "freq       185.0\n",
       "Name: Size, dtype: float64"
      ]
     },
     "execution_count": 1617,
     "metadata": {},
     "output_type": "execute_result"
    }
   ],
   "source": [
    "df_cleaned[SIZE].describe()"
   ]
  },
  {
   "cell_type": "markdown",
   "metadata": {},
   "source": [
    "#### Missing values"
   ]
  },
  {
   "cell_type": "code",
   "execution_count": 1618,
   "metadata": {},
   "outputs": [
    {
     "data": {
      "text/plain": [
       "1271"
      ]
     },
     "execution_count": 1618,
     "metadata": {},
     "output_type": "execute_result"
    }
   ],
   "source": [
    "is_size_na = df_cleaned[SIZE].isna()\n",
    "is_size_na.sum()"
   ]
  },
  {
   "cell_type": "markdown",
   "metadata": {},
   "source": [
    "We interpolate the size by the median size of the genre."
   ]
  },
  {
   "cell_type": "code",
   "execution_count": 1619,
   "metadata": {},
   "outputs": [
    {
     "data": {
      "text/plain": [
       "{'Action': 45.0,\n",
       " 'Action & Adventure': 39.0,\n",
       " 'Adventure': 31.0,\n",
       " 'Arcade': 36.0,\n",
       " 'Art & Design': 8.95,\n",
       " 'Auto & Vehicles': 16.0,\n",
       " 'Beauty': 9.2,\n",
       " 'Board': 17.0,\n",
       " 'Books & Reference': 7.8,\n",
       " 'Brain Games': 20.5,\n",
       " 'Business': 8.6,\n",
       " 'Card': 23.0,\n",
       " 'Casino': 26.0,\n",
       " 'Casual': 26.0,\n",
       " 'Comics': 10.0,\n",
       " 'Communication': 5.7,\n",
       " 'Creativity': 28.0,\n",
       " 'Dating': 11.0,\n",
       " 'Education': 12.0,\n",
       " 'Educational': 46.0,\n",
       " 'Entertainment': 8.2,\n",
       " 'Events': 9.7,\n",
       " 'Finance': 12.0,\n",
       " 'Food & Drink': 17.0,\n",
       " 'Health & Fitness': 11.5,\n",
       " 'House & Home': 9.45,\n",
       " 'Libraries & Demo': 3.1,\n",
       " 'Lifestyle': 9.6,\n",
       " 'Maps & Navigation': 9.8,\n",
       " 'Medical': 15.0,\n",
       " 'Music': 36.0,\n",
       " 'Music & Audio': 9.8,\n",
       " 'Music & Video': 28.0,\n",
       " 'News & Magazines': 9.0,\n",
       " 'Parenting': 11.0,\n",
       " 'Personalization': 7.1,\n",
       " 'Photography': 9.649999999999999,\n",
       " 'Pretend Play': 48.5,\n",
       " 'Productivity': 6.9,\n",
       " 'Puzzle': 29.0,\n",
       " 'Racing': 45.0,\n",
       " 'Role Playing': 47.0,\n",
       " 'Shopping': 12.0,\n",
       " 'Simulation': 41.0,\n",
       " 'Social': 7.9,\n",
       " 'Sports': 20.0,\n",
       " 'Strategy': 45.5,\n",
       " 'Tools': 4.2,\n",
       " 'Travel & Local': 18.0,\n",
       " 'Trivia': 18.5,\n",
       " 'Video Players & Editors': 8.5,\n",
       " 'Weather': 9.2,\n",
       " 'Word': 28.0}"
      ]
     },
     "execution_count": 1619,
     "metadata": {},
     "output_type": "execute_result"
    }
   ],
   "source": [
    "genre_median_size_map = df_cleaned.pivot_table(index=GENRE, values=SIZE, aggfunc=MEDIAN).to_dict()[SIZE]\n",
    "genre_median_size_map"
   ]
  },
  {
   "cell_type": "code",
   "execution_count": 1620,
   "metadata": {},
   "outputs": [
    {
     "data": {
      "text/plain": [
       "0"
      ]
     },
     "execution_count": 1620,
     "metadata": {},
     "output_type": "execute_result"
    }
   ],
   "source": [
    "df_cleaned.loc[is_size_na, SIZE] = df_cleaned.loc[is_size_na, GENRE].map(genre_median_size_map)\n",
    "df_cleaned[SIZE].isna().sum()"
   ]
  },
  {
   "cell_type": "markdown",
   "metadata": {},
   "source": [
    "#### Classification of size to Size Class {Low, Medium, High}"
   ]
  },
  {
   "cell_type": "code",
   "execution_count": 1621,
   "metadata": {},
   "outputs": [
    {
     "data": {
      "text/plain": [
       "Medium    3435\n",
       "Low       3363\n",
       "High      3254\n",
       "Name: Size Class, dtype: int64"
      ]
     },
     "execution_count": 1621,
     "metadata": {},
     "output_type": "execute_result"
    }
   ],
   "source": [
    "q1, q2 = df_cleaned[SIZE].quantile(q=[1/3, 2/3])\n",
    "df_cleaned[SIZE_CLASS] = df_cleaned[SIZE].apply(lambda size: \"Low\" if size <= q1 else \"Medium\" if size <= q2 else \"High\")\n",
    "df_cleaned[SIZE_CLASS].value_counts()"
   ]
  },
  {
   "cell_type": "code",
   "execution_count": 1622,
   "metadata": {},
   "outputs": [
    {
     "data": {
      "text/plain": [
       "count                              10052\n",
       "unique                              9659\n",
       "top       Kids Learn Languages by Mondly\n",
       "freq                                   2\n",
       "Name: App, dtype: object"
      ]
     },
     "execution_count": 1622,
     "metadata": {},
     "output_type": "execute_result"
    }
   ],
   "source": [
    "df_cleaned[APP_NAME].describe()"
   ]
  },
  {
   "cell_type": "markdown",
   "metadata": {},
   "source": [
    "The reason why there is no equal distribution of the size classes is, that we duplicated some rows and so we got duplicates in the size columns. <br>\n",
    "But thats fine, because the fact, that the genre is different, we've got an new record and we still can remove the duplicates by the app name column, if needed."
   ]
  },
  {
   "cell_type": "markdown",
   "metadata": {},
   "source": [
    "### Downloads"
   ]
  },
  {
   "cell_type": "code",
   "execution_count": 1623,
   "metadata": {},
   "outputs": [
    {
     "data": {
      "text/plain": [
       "1,000,000+        1519\n",
       "100,000+          1166\n",
       "10,000+           1061\n",
       "10,000,000+        999\n",
       "1,000+             906\n",
       "100+               716\n",
       "5,000,000+         649\n",
       "500,000+           538\n",
       "50,000+            487\n",
       "5,000+             477\n",
       "10+                387\n",
       "500+               332\n",
       "50,000,000+        208\n",
       "50+                206\n",
       "100,000,000+       192\n",
       "5+                  82\n",
       "1+                  68\n",
       "500,000,000+        24\n",
       "1,000,000,000+      20\n",
       "0+                  14\n",
       "0                    1\n",
       "Name: Downloads, dtype: int64"
      ]
     },
     "execution_count": 1623,
     "metadata": {},
     "output_type": "execute_result"
    }
   ],
   "source": [
    "df_cleaned[DOWNLOADS].value_counts()"
   ]
  },
  {
   "cell_type": "code",
   "execution_count": 1624,
   "metadata": {},
   "outputs": [
    {
     "data": {
      "text/plain": [
       "0               15\n",
       "1               68\n",
       "5               82\n",
       "10             387\n",
       "50             206\n",
       "100            716\n",
       "500            332\n",
       "1000           906\n",
       "5000           477\n",
       "10000         1061\n",
       "50000          487\n",
       "100000        1166\n",
       "500000         538\n",
       "1000000       1519\n",
       "5000000        649\n",
       "10000000       999\n",
       "50000000       208\n",
       "100000000      192\n",
       "500000000       24\n",
       "1000000000      20\n",
       "Name: Downloads, dtype: int64"
      ]
     },
     "execution_count": 1624,
     "metadata": {},
     "output_type": "execute_result"
    }
   ],
   "source": [
    "df_cleaned[DOWNLOADS] = df_cleaned[DOWNLOADS].str.replace(\"+\", \"\", regex=True).replace(\" \", \"\", regex=True).replace(\",\", \"\", regex=True).astype(\"int\")\n",
    "df_cleaned[DOWNLOADS].value_counts().sort_index()"
   ]
  },
  {
   "cell_type": "markdown",
   "metadata": {},
   "source": [
    "#### Classification of downloads to {Low, Medium, High, Top}"
   ]
  },
  {
   "cell_type": "code",
   "execution_count": 1625,
   "metadata": {},
   "outputs": [
    {
     "data": {
      "text/plain": [
       "Low       4737\n",
       "High      2168\n",
       "Medium    1704\n",
       "Top       1443\n",
       "Name: Download Rate, dtype: int64"
      ]
     },
     "execution_count": 1625,
     "metadata": {},
     "output_type": "execute_result"
    }
   ],
   "source": [
    "q1, q2, q3, qtop10 = df_cleaned[DOWNLOADS].quantile(q=[1/4, 2/4, 3/4, 9/10])\n",
    "\n",
    "df_cleaned[DOWNLOAD_RATE] = df_cleaned[DOWNLOADS].apply(lambda downloads: \"Top\" if downloads >= qtop10 else \"High\" if downloads >= q3 else \"Medium\" if downloads >= q2 else \"Low\")\n",
    "df_cleaned[DOWNLOAD_RATE].value_counts()"
   ]
  },
  {
   "cell_type": "markdown",
   "metadata": {},
   "source": [
    "### Type"
   ]
  },
  {
   "cell_type": "code",
   "execution_count": 1626,
   "metadata": {},
   "outputs": [
    {
     "data": {
      "text/plain": [
       "count     10052\n",
       "unique        2\n",
       "top        Free\n",
       "freq       9226\n",
       "Name: Type, dtype: object"
      ]
     },
     "execution_count": 1626,
     "metadata": {},
     "output_type": "execute_result"
    }
   ],
   "source": [
    "df_cleaned[TYPE].describe()"
   ]
  },
  {
   "cell_type": "code",
   "execution_count": 1627,
   "metadata": {},
   "outputs": [
    {
     "data": {
      "text/plain": [
       "0"
      ]
     },
     "execution_count": 1627,
     "metadata": {},
     "output_type": "execute_result"
    }
   ],
   "source": [
    "df_cleaned[TYPE].isna().sum()"
   ]
  },
  {
   "cell_type": "code",
   "execution_count": 1628,
   "metadata": {},
   "outputs": [
    {
     "data": {
      "text/plain": [
       "Free    9226\n",
       "Paid     826\n",
       "Name: Type, dtype: int64"
      ]
     },
     "execution_count": 1628,
     "metadata": {},
     "output_type": "execute_result"
    }
   ],
   "source": [
    "df_cleaned[TYPE].value_counts()"
   ]
  },
  {
   "cell_type": "markdown",
   "metadata": {},
   "source": [
    "Looks fine!"
   ]
  },
  {
   "cell_type": "markdown",
   "metadata": {},
   "source": [
    "### Price"
   ]
  },
  {
   "cell_type": "code",
   "execution_count": 1629,
   "metadata": {},
   "outputs": [
    {
     "data": {
      "text/plain": [
       "count     10052\n",
       "unique       92\n",
       "top           0\n",
       "freq       9226\n",
       "Name: Price, dtype: object"
      ]
     },
     "execution_count": 1629,
     "metadata": {},
     "output_type": "execute_result"
    }
   ],
   "source": [
    "df_cleaned[PRICE].describe()"
   ]
  },
  {
   "cell_type": "code",
   "execution_count": 1630,
   "metadata": {},
   "outputs": [
    {
     "data": {
      "text/plain": [
       "0"
      ]
     },
     "execution_count": 1630,
     "metadata": {},
     "output_type": "execute_result"
    }
   ],
   "source": [
    "df_cleaned[PRICE].isna().sum()"
   ]
  },
  {
   "cell_type": "code",
   "execution_count": 1631,
   "metadata": {},
   "outputs": [
    {
     "data": {
      "text/plain": [
       "0          9226\n",
       "$2.99       151\n",
       "$0.99       150\n",
       "$1.99        80\n",
       "$4.99        79\n",
       "           ... \n",
       "$389.99       1\n",
       "$19.90        1\n",
       "$1.75         1\n",
       "$14.00        1\n",
       "$1.04         1\n",
       "Name: Price, Length: 92, dtype: int64"
      ]
     },
     "execution_count": 1631,
     "metadata": {},
     "output_type": "execute_result"
    }
   ],
   "source": [
    "df_cleaned[PRICE].value_counts()"
   ]
  },
  {
   "cell_type": "code",
   "execution_count": 1632,
   "metadata": {},
   "outputs": [
    {
     "data": {
      "text/plain": [
       "count    10052.000000\n",
       "mean         1.079390\n",
       "std         16.521963\n",
       "min          0.000000\n",
       "25%          0.000000\n",
       "50%          0.000000\n",
       "75%          0.000000\n",
       "max        400.000000\n",
       "Name: Price, dtype: float64"
      ]
     },
     "execution_count": 1632,
     "metadata": {},
     "output_type": "execute_result"
    }
   ],
   "source": [
    "df_cleaned[PRICE] = df_cleaned[PRICE].str.replace(\"$\", \"\", regex=True).astype(\"float64\")\n",
    "df_cleaned[PRICE].describe()"
   ]
  },
  {
   "cell_type": "code",
   "execution_count": 1633,
   "metadata": {},
   "outputs": [
    {
     "name": "stderr",
     "output_type": "stream",
     "text": [
      "/Users/enricogoerlitz/opt/anaconda3/envs/dt-22/lib/python3.10/site-packages/IPython/core/displayhook.py:275: UserWarning: Output cache limit (currently 1000 entries) hit.\n",
      "Flushing oldest 200 entries.\n",
      "  warn('Output cache limit (currently {sz} entries) hit.\\n'\n"
     ]
    },
    {
     "data": {
      "text/plain": [
       "0.333333      1.99\n",
       "0.666667      3.99\n",
       "0.900000      9.99\n",
       "0.990000    399.99\n",
       "Name: Price, dtype: float64"
      ]
     },
     "execution_count": 1633,
     "metadata": {},
     "output_type": "execute_result"
    }
   ],
   "source": [
    "is_price_over_0 = df_cleaned[PRICE] > 0\n",
    "df_cleaned.loc[is_price_over_0, PRICE].quantile(q=[1/3, 2/3, 9/10, 99/100])"
   ]
  },
  {
   "cell_type": "code",
   "execution_count": 1634,
   "metadata": {},
   "outputs": [
    {
     "data": {
      "text/plain": [
       "Low          294\n",
       "Medium       273\n",
       "High         164\n",
       "Very High     95\n",
       "Name: Price Class, dtype: int64"
      ]
     },
     "execution_count": 1634,
     "metadata": {},
     "output_type": "execute_result"
    }
   ],
   "source": [
    "q1, q2, qtop10 = df_cleaned.loc[is_price_over_0, PRICE].quantile(q=[1/3, 2/3, 9/10])\n",
    "\n",
    "df_cleaned[PRICE_CLASS] = df_cleaned[PRICE].apply(lambda price: \"Very High\" if price >= qtop10 else \"Low\" if price <= q1 else \"Medium\" if price <= q2 else \"High\")\n",
    "df_cleaned.loc[is_price_over_0, PRICE_CLASS].value_counts()"
   ]
  },
  {
   "cell_type": "markdown",
   "metadata": {},
   "source": [
    "### Content Rating"
   ]
  },
  {
   "cell_type": "code",
   "execution_count": 1635,
   "metadata": {},
   "outputs": [
    {
     "data": {
      "text/plain": [
       "0"
      ]
     },
     "execution_count": 1635,
     "metadata": {},
     "output_type": "execute_result"
    }
   ],
   "source": [
    "df_cleaned[CONTENT_GROUP].isna().sum()"
   ]
  },
  {
   "cell_type": "code",
   "execution_count": 1636,
   "metadata": {},
   "outputs": [
    {
     "data": {
      "text/plain": [
       "Everyone           8272\n",
       "Teen               1036\n",
       "Mature 17+          393\n",
       "Everyone 10+        346\n",
       "Adults only 18+       3\n",
       "Unrated               2\n",
       "Name: Content Group, dtype: int64"
      ]
     },
     "execution_count": 1636,
     "metadata": {},
     "output_type": "execute_result"
    }
   ],
   "source": [
    "df_cleaned[CONTENT_GROUP].value_counts()"
   ]
  },
  {
   "cell_type": "markdown",
   "metadata": {},
   "source": [
    "- Mature 17+ -> Adults\n",
    "- Adults only 18+ -> Adults\n",
    "- Everyone 10+ -> Everyone\n",
    "- Unrated -> Everyone"
   ]
  },
  {
   "cell_type": "code",
   "execution_count": 1637,
   "metadata": {},
   "outputs": [
    {
     "data": {
      "text/plain": [
       "Everyone    8620\n",
       "Teen        1036\n",
       "Adults       396\n",
       "Name: Content Group, dtype: int64"
      ]
     },
     "execution_count": 1637,
     "metadata": {},
     "output_type": "execute_result"
    }
   ],
   "source": [
    "content_rating_map = {\"Mature 17+\": \"Adults\", \"Adults only 18+\": \"Adults\", \"Everyone 10+\": \"Everyone\", \"Unrated\": \"Everyone\"}\n",
    "df_cleaned[CONTENT_GROUP] = df_cleaned[CONTENT_GROUP].replace(content_rating_map)\n",
    "df_cleaned[CONTENT_GROUP].value_counts()"
   ]
  },
  {
   "cell_type": "markdown",
   "metadata": {},
   "source": [
    "### Clean Dataset"
   ]
  },
  {
   "cell_type": "code",
   "execution_count": 1638,
   "metadata": {},
   "outputs": [
    {
     "data": {
      "text/html": [
       "<div>\n",
       "<style scoped>\n",
       "    .dataframe tbody tr th:only-of-type {\n",
       "        vertical-align: middle;\n",
       "    }\n",
       "\n",
       "    .dataframe tbody tr th {\n",
       "        vertical-align: top;\n",
       "    }\n",
       "\n",
       "    .dataframe thead th {\n",
       "        text-align: right;\n",
       "    }\n",
       "</style>\n",
       "<table border=\"1\" class=\"dataframe\">\n",
       "  <thead>\n",
       "    <tr style=\"text-align: right;\">\n",
       "      <th></th>\n",
       "      <th>App</th>\n",
       "      <th>Rating</th>\n",
       "      <th>Reviews</th>\n",
       "      <th>Size</th>\n",
       "      <th>Downloads</th>\n",
       "      <th>Type</th>\n",
       "      <th>Price</th>\n",
       "      <th>Content Group</th>\n",
       "      <th>Genres</th>\n",
       "      <th>Rating Class</th>\n",
       "      <th>Review Rate</th>\n",
       "      <th>Size Class</th>\n",
       "      <th>Download Rate</th>\n",
       "      <th>Price Class</th>\n",
       "    </tr>\n",
       "  </thead>\n",
       "  <tbody>\n",
       "    <tr>\n",
       "      <th>0</th>\n",
       "      <td>Photo Editor &amp; Candy Camera &amp; Grid &amp; ScrapBook</td>\n",
       "      <td>4.1</td>\n",
       "      <td>159</td>\n",
       "      <td>19.0</td>\n",
       "      <td>10000</td>\n",
       "      <td>Free</td>\n",
       "      <td>0.0</td>\n",
       "      <td>Everyone</td>\n",
       "      <td>Art &amp; Design</td>\n",
       "      <td>4.5</td>\n",
       "      <td>Medium</td>\n",
       "      <td>Medium</td>\n",
       "      <td>Low</td>\n",
       "      <td>Low</td>\n",
       "    </tr>\n",
       "    <tr>\n",
       "      <th>1</th>\n",
       "      <td>Coloring book moana</td>\n",
       "      <td>3.9</td>\n",
       "      <td>967</td>\n",
       "      <td>14.0</td>\n",
       "      <td>500000</td>\n",
       "      <td>Free</td>\n",
       "      <td>0.0</td>\n",
       "      <td>Everyone</td>\n",
       "      <td>Art &amp; Design</td>\n",
       "      <td>4.0</td>\n",
       "      <td>Medium</td>\n",
       "      <td>Medium</td>\n",
       "      <td>Medium</td>\n",
       "      <td>Low</td>\n",
       "    </tr>\n",
       "    <tr>\n",
       "      <th>2</th>\n",
       "      <td>U Launcher Lite – FREE Live Cool Themes, Hide ...</td>\n",
       "      <td>4.7</td>\n",
       "      <td>87510</td>\n",
       "      <td>8.7</td>\n",
       "      <td>5000000</td>\n",
       "      <td>Free</td>\n",
       "      <td>0.0</td>\n",
       "      <td>Everyone</td>\n",
       "      <td>Art &amp; Design</td>\n",
       "      <td>0.5</td>\n",
       "      <td>High</td>\n",
       "      <td>Medium</td>\n",
       "      <td>High</td>\n",
       "      <td>Low</td>\n",
       "    </tr>\n",
       "    <tr>\n",
       "      <th>3</th>\n",
       "      <td>Sketch - Draw &amp; Paint</td>\n",
       "      <td>4.5</td>\n",
       "      <td>215644</td>\n",
       "      <td>25.0</td>\n",
       "      <td>50000000</td>\n",
       "      <td>Free</td>\n",
       "      <td>0.0</td>\n",
       "      <td>Teen</td>\n",
       "      <td>Art &amp; Design</td>\n",
       "      <td>0.5</td>\n",
       "      <td>High</td>\n",
       "      <td>High</td>\n",
       "      <td>Top</td>\n",
       "      <td>Low</td>\n",
       "    </tr>\n",
       "    <tr>\n",
       "      <th>4</th>\n",
       "      <td>Pixel Draw - Number Art Coloring Book</td>\n",
       "      <td>4.3</td>\n",
       "      <td>967</td>\n",
       "      <td>2.8</td>\n",
       "      <td>100000</td>\n",
       "      <td>Free</td>\n",
       "      <td>0.0</td>\n",
       "      <td>Everyone</td>\n",
       "      <td>Art &amp; Design</td>\n",
       "      <td>4.5</td>\n",
       "      <td>Medium</td>\n",
       "      <td>Low</td>\n",
       "      <td>Medium</td>\n",
       "      <td>Low</td>\n",
       "    </tr>\n",
       "    <tr>\n",
       "      <th>...</th>\n",
       "      <td>...</td>\n",
       "      <td>...</td>\n",
       "      <td>...</td>\n",
       "      <td>...</td>\n",
       "      <td>...</td>\n",
       "      <td>...</td>\n",
       "      <td>...</td>\n",
       "      <td>...</td>\n",
       "      <td>...</td>\n",
       "      <td>...</td>\n",
       "      <td>...</td>\n",
       "      <td>...</td>\n",
       "      <td>...</td>\n",
       "      <td>...</td>\n",
       "    </tr>\n",
       "    <tr>\n",
       "      <th>10047</th>\n",
       "      <td>PBS KIDS Games</td>\n",
       "      <td>4.3</td>\n",
       "      <td>12919</td>\n",
       "      <td>94.0</td>\n",
       "      <td>1000000</td>\n",
       "      <td>Free</td>\n",
       "      <td>0.0</td>\n",
       "      <td>Everyone</td>\n",
       "      <td>Education</td>\n",
       "      <td>4.5</td>\n",
       "      <td>High</td>\n",
       "      <td>High</td>\n",
       "      <td>High</td>\n",
       "      <td>Low</td>\n",
       "    </tr>\n",
       "    <tr>\n",
       "      <th>10048</th>\n",
       "      <td>Dolphin and fish coloring book</td>\n",
       "      <td>3.9</td>\n",
       "      <td>2249</td>\n",
       "      <td>28.0</td>\n",
       "      <td>500000</td>\n",
       "      <td>Free</td>\n",
       "      <td>0.0</td>\n",
       "      <td>Everyone</td>\n",
       "      <td>Creativity</td>\n",
       "      <td>4.0</td>\n",
       "      <td>Medium</td>\n",
       "      <td>High</td>\n",
       "      <td>Medium</td>\n",
       "      <td>Low</td>\n",
       "    </tr>\n",
       "    <tr>\n",
       "      <th>10049</th>\n",
       "      <td>Cake Shop - Kids Cooking</td>\n",
       "      <td>4.3</td>\n",
       "      <td>30668</td>\n",
       "      <td>33.0</td>\n",
       "      <td>5000000</td>\n",
       "      <td>Free</td>\n",
       "      <td>0.0</td>\n",
       "      <td>Everyone</td>\n",
       "      <td>Pretend Play</td>\n",
       "      <td>4.5</td>\n",
       "      <td>High</td>\n",
       "      <td>High</td>\n",
       "      <td>High</td>\n",
       "      <td>Low</td>\n",
       "    </tr>\n",
       "    <tr>\n",
       "      <th>10050</th>\n",
       "      <td>Hair saloon - Spa salon</td>\n",
       "      <td>4.2</td>\n",
       "      <td>38473</td>\n",
       "      <td>23.0</td>\n",
       "      <td>10000000</td>\n",
       "      <td>Free</td>\n",
       "      <td>0.0</td>\n",
       "      <td>Everyone</td>\n",
       "      <td>Pretend Play</td>\n",
       "      <td>4.5</td>\n",
       "      <td>High</td>\n",
       "      <td>High</td>\n",
       "      <td>Top</td>\n",
       "      <td>Low</td>\n",
       "    </tr>\n",
       "    <tr>\n",
       "      <th>10051</th>\n",
       "      <td>Fairy Kingdom: World of Magic and Farming</td>\n",
       "      <td>4.4</td>\n",
       "      <td>129542</td>\n",
       "      <td>63.0</td>\n",
       "      <td>1000000</td>\n",
       "      <td>Free</td>\n",
       "      <td>0.0</td>\n",
       "      <td>Everyone</td>\n",
       "      <td>Creativity</td>\n",
       "      <td>4.5</td>\n",
       "      <td>High</td>\n",
       "      <td>High</td>\n",
       "      <td>High</td>\n",
       "      <td>Low</td>\n",
       "    </tr>\n",
       "  </tbody>\n",
       "</table>\n",
       "<p>10052 rows × 14 columns</p>\n",
       "</div>"
      ],
      "text/plain": [
       "                                                     App Rating Reviews  Size  \\\n",
       "0         Photo Editor & Candy Camera & Grid & ScrapBook    4.1     159  19.0   \n",
       "1                                    Coloring book moana    3.9     967  14.0   \n",
       "2      U Launcher Lite – FREE Live Cool Themes, Hide ...    4.7   87510   8.7   \n",
       "3                                  Sketch - Draw & Paint    4.5  215644  25.0   \n",
       "4                  Pixel Draw - Number Art Coloring Book    4.3     967   2.8   \n",
       "...                                                  ...    ...     ...   ...   \n",
       "10047                                     PBS KIDS Games    4.3   12919  94.0   \n",
       "10048                     Dolphin and fish coloring book    3.9    2249  28.0   \n",
       "10049                           Cake Shop - Kids Cooking    4.3   30668  33.0   \n",
       "10050                            Hair saloon - Spa salon    4.2   38473  23.0   \n",
       "10051          Fairy Kingdom: World of Magic and Farming    4.4  129542  63.0   \n",
       "\n",
       "       Downloads  Type  Price Content Group        Genres  Rating Class  \\\n",
       "0          10000  Free    0.0      Everyone  Art & Design           4.5   \n",
       "1         500000  Free    0.0      Everyone  Art & Design           4.0   \n",
       "2        5000000  Free    0.0      Everyone  Art & Design           0.5   \n",
       "3       50000000  Free    0.0          Teen  Art & Design           0.5   \n",
       "4         100000  Free    0.0      Everyone  Art & Design           4.5   \n",
       "...          ...   ...    ...           ...           ...           ...   \n",
       "10047    1000000  Free    0.0      Everyone     Education           4.5   \n",
       "10048     500000  Free    0.0      Everyone    Creativity           4.0   \n",
       "10049    5000000  Free    0.0      Everyone  Pretend Play           4.5   \n",
       "10050   10000000  Free    0.0      Everyone  Pretend Play           4.5   \n",
       "10051    1000000  Free    0.0      Everyone    Creativity           4.5   \n",
       "\n",
       "      Review Rate Size Class Download Rate Price Class  \n",
       "0          Medium     Medium           Low         Low  \n",
       "1          Medium     Medium        Medium         Low  \n",
       "2            High     Medium          High         Low  \n",
       "3            High       High           Top         Low  \n",
       "4          Medium        Low        Medium         Low  \n",
       "...           ...        ...           ...         ...  \n",
       "10047        High       High          High         Low  \n",
       "10048      Medium       High        Medium         Low  \n",
       "10049        High       High          High         Low  \n",
       "10050        High       High           Top         Low  \n",
       "10051        High       High          High         Low  \n",
       "\n",
       "[10052 rows x 14 columns]"
      ]
     },
     "execution_count": 1638,
     "metadata": {},
     "output_type": "execute_result"
    }
   ],
   "source": [
    "df_cleaned"
   ]
  },
  {
   "cell_type": "markdown",
   "metadata": {},
   "source": [
    "## Data visualization & interpretation"
   ]
  },
  {
   "cell_type": "code",
   "execution_count": null,
   "metadata": {},
   "outputs": [],
   "source": []
  },
  {
   "cell_type": "code",
   "execution_count": null,
   "metadata": {},
   "outputs": [],
   "source": []
  }
 ],
 "metadata": {
  "kernelspec": {
   "display_name": "Python 3.10.4 ('dt-22')",
   "language": "python",
   "name": "python3"
  },
  "language_info": {
   "codemirror_mode": {
    "name": "ipython",
    "version": 3
   },
   "file_extension": ".py",
   "mimetype": "text/x-python",
   "name": "python",
   "nbconvert_exporter": "python",
   "pygments_lexer": "ipython3",
   "version": "3.10.4"
  },
  "orig_nbformat": 4,
  "vscode": {
   "interpreter": {
    "hash": "2f2a90004446a3d28522bdb97caf000bd8ceeb10ef91e7481cd1ff500debcf1e"
   }
  }
 },
 "nbformat": 4,
 "nbformat_minor": 2
}
